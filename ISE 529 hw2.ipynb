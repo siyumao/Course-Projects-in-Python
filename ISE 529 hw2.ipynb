{
 "cells": [
  {
   "cell_type": "code",
   "execution_count": 1,
   "metadata": {},
   "outputs": [],
   "source": [
    "import numpy as np\n",
    "import pandas as pd\n",
    "import matplotlib.pyplot as plt\n",
    "import statsmodels.api as sm\n",
    "import seaborn as sns\n",
    "import statistics\n",
    "import itertools"
   ]
  },
  {
   "cell_type": "code",
   "execution_count": 2,
   "metadata": {},
   "outputs": [],
   "source": [
    "from sklearn.linear_model import LinearRegression\n",
    "from sklearn.metrics import mean_squared_error\n",
    "from scipy.special import comb"
   ]
  },
  {
   "cell_type": "code",
   "execution_count": 3,
   "metadata": {},
   "outputs": [],
   "source": [
    "df = pd.read_csv('homes.csv')"
   ]
  },
  {
   "cell_type": "code",
   "execution_count": 4,
   "metadata": {},
   "outputs": [],
   "source": [
    "df['age'] = 2001 - df.year\n",
    "df1 = df.drop(columns = ['year'])"
   ]
  },
  {
   "cell_type": "markdown",
   "metadata": {},
   "source": [
    "# Question1"
   ]
  },
  {
   "cell_type": "code",
   "execution_count": 5,
   "metadata": {},
   "outputs": [
    {
     "data": {
      "text/plain": [
       "(522, 1)"
      ]
     },
     "execution_count": 5,
     "metadata": {},
     "output_type": "execute_result"
    }
   ],
   "source": [
    "bed = df1.beds\n",
    "Y = df.price\n",
    "X = bed.to_numpy()\n",
    "X = pd.DataFrame(X)\n",
    "X0 = X.values.reshape(-1,1)\n",
    "X0.shape"
   ]
  },
  {
   "cell_type": "code",
   "execution_count": 6,
   "metadata": {},
   "outputs": [
    {
     "data": {
      "text/plain": [
       "LinearRegression(copy_X=True, fit_intercept=True, n_jobs=None, normalize=False)"
      ]
     },
     "execution_count": 6,
     "metadata": {},
     "output_type": "execute_result"
    }
   ],
   "source": [
    "m1 = LinearRegression().fit(X0,Y)\n",
    "m1.fit(X0,Y)"
   ]
  },
  {
   "cell_type": "code",
   "execution_count": 7,
   "metadata": {},
   "outputs": [],
   "source": [
    "# intercept and slope"
   ]
  },
  {
   "cell_type": "code",
   "execution_count": 8,
   "metadata": {},
   "outputs": [
    {
     "data": {
      "text/plain": [
       "82808.79961261936"
      ]
     },
     "execution_count": 8,
     "metadata": {},
     "output_type": "execute_result"
    }
   ],
   "source": [
    "m1.intercept_"
   ]
  },
  {
   "cell_type": "code",
   "execution_count": 9,
   "metadata": {},
   "outputs": [
    {
     "data": {
      "text/plain": [
       "array([56200.08366568])"
      ]
     },
     "execution_count": 9,
     "metadata": {},
     "output_type": "execute_result"
    }
   ],
   "source": [
    "m1.coef_"
   ]
  },
  {
   "cell_type": "code",
   "execution_count": 10,
   "metadata": {},
   "outputs": [],
   "source": [
    "# Price increase by 56200.08366 dollars for each additional bedroom"
   ]
  },
  {
   "cell_type": "markdown",
   "metadata": {},
   "source": [
    "# Question2"
   ]
  },
  {
   "cell_type": "code",
   "execution_count": 11,
   "metadata": {},
   "outputs": [],
   "source": [
    "list1 = ['lotsize','area','beds','baths','age','garage']\n",
    "x0 = df1[list1]\n",
    "#x0.info()\n",
    "#x0.shape"
   ]
  },
  {
   "cell_type": "code",
   "execution_count": 12,
   "metadata": {},
   "outputs": [],
   "source": [
    "xz = x0.to_numpy()\n",
    "x1 = sm.add_constant(xz)"
   ]
  },
  {
   "cell_type": "code",
   "execution_count": 13,
   "metadata": {},
   "outputs": [
    {
     "data": {
      "text/html": [
       "<table class=\"simpletable\">\n",
       "<caption>OLS Regression Results</caption>\n",
       "<tr>\n",
       "  <th>Dep. Variable:</th>          <td>price</td>      <th>  R-squared:         </th> <td>   0.751</td> \n",
       "</tr>\n",
       "<tr>\n",
       "  <th>Model:</th>                   <td>OLS</td>       <th>  Adj. R-squared:    </th> <td>   0.748</td> \n",
       "</tr>\n",
       "<tr>\n",
       "  <th>Method:</th>             <td>Least Squares</td>  <th>  F-statistic:       </th> <td>   259.4</td> \n",
       "</tr>\n",
       "<tr>\n",
       "  <th>Date:</th>             <td>Wed, 25 Sep 2019</td> <th>  Prob (F-statistic):</th> <td>4.21e-152</td>\n",
       "</tr>\n",
       "<tr>\n",
       "  <th>Time:</th>                 <td>11:00:14</td>     <th>  Log-Likelihood:    </th> <td> -6554.5</td> \n",
       "</tr>\n",
       "<tr>\n",
       "  <th>No. Observations:</th>      <td>   522</td>      <th>  AIC:               </th> <td>1.312e+04</td>\n",
       "</tr>\n",
       "<tr>\n",
       "  <th>Df Residuals:</th>          <td>   515</td>      <th>  BIC:               </th> <td>1.315e+04</td>\n",
       "</tr>\n",
       "<tr>\n",
       "  <th>Df Model:</th>              <td>     6</td>      <th>                     </th>     <td> </td>    \n",
       "</tr>\n",
       "<tr>\n",
       "  <th>Covariance Type:</th>      <td>nonrobust</td>    <th>                     </th>     <td> </td>    \n",
       "</tr>\n",
       "</table>\n",
       "<table class=\"simpletable\">\n",
       "<tr>\n",
       "    <td></td>       <th>coef</th>     <th>std err</th>      <th>t</th>      <th>P>|t|</th>  <th>[0.025</th>    <th>0.975]</th>  \n",
       "</tr>\n",
       "<tr>\n",
       "  <th>const</th> <td>-6707.5382</td> <td> 1.88e+04</td> <td>   -0.356</td> <td> 0.722</td> <td>-4.37e+04</td> <td> 3.03e+04</td>\n",
       "</tr>\n",
       "<tr>\n",
       "  <th>x1</th>    <td>    1.5550</td> <td>    0.272</td> <td>    5.717</td> <td> 0.000</td> <td>    1.021</td> <td>    2.089</td>\n",
       "</tr>\n",
       "<tr>\n",
       "  <th>x2</th>    <td>  125.7386</td> <td>    6.963</td> <td>   18.057</td> <td> 0.000</td> <td>  112.059</td> <td>  139.419</td>\n",
       "</tr>\n",
       "<tr>\n",
       "  <th>x3</th>    <td>-1.304e+04</td> <td> 3780.397</td> <td>   -3.450</td> <td> 0.001</td> <td>-2.05e+04</td> <td>-5614.498</td>\n",
       "</tr>\n",
       "<tr>\n",
       "  <th>x4</th>    <td> 7987.5518</td> <td> 4818.957</td> <td>    1.658</td> <td> 0.098</td> <td>-1479.680</td> <td> 1.75e+04</td>\n",
       "</tr>\n",
       "<tr>\n",
       "  <th>x5</th>    <td>-1779.6108</td> <td>  215.487</td> <td>   -8.259</td> <td> 0.000</td> <td>-2202.953</td> <td>-1356.268</td>\n",
       "</tr>\n",
       "<tr>\n",
       "  <th>x6</th>    <td> 2.253e+04</td> <td> 5814.344</td> <td>    3.875</td> <td> 0.000</td> <td> 1.11e+04</td> <td>  3.4e+04</td>\n",
       "</tr>\n",
       "</table>\n",
       "<table class=\"simpletable\">\n",
       "<tr>\n",
       "  <th>Omnibus:</th>       <td>124.114</td> <th>  Durbin-Watson:     </th> <td>   1.327</td>\n",
       "</tr>\n",
       "<tr>\n",
       "  <th>Prob(Omnibus):</th> <td> 0.000</td>  <th>  Jarque-Bera (JB):  </th> <td> 384.582</td>\n",
       "</tr>\n",
       "<tr>\n",
       "  <th>Skew:</th>          <td> 1.110</td>  <th>  Prob(JB):          </th> <td>3.08e-84</td>\n",
       "</tr>\n",
       "<tr>\n",
       "  <th>Kurtosis:</th>      <td> 6.571</td>  <th>  Cond. No.          </th> <td>1.71e+05</td>\n",
       "</tr>\n",
       "</table><br/><br/>Warnings:<br/>[1] Standard Errors assume that the covariance matrix of the errors is correctly specified.<br/>[2] The condition number is large, 1.71e+05. This might indicate that there are<br/>strong multicollinearity or other numerical problems."
      ],
      "text/plain": [
       "<class 'statsmodels.iolib.summary.Summary'>\n",
       "\"\"\"\n",
       "                            OLS Regression Results                            \n",
       "==============================================================================\n",
       "Dep. Variable:                  price   R-squared:                       0.751\n",
       "Model:                            OLS   Adj. R-squared:                  0.748\n",
       "Method:                 Least Squares   F-statistic:                     259.4\n",
       "Date:                Wed, 25 Sep 2019   Prob (F-statistic):          4.21e-152\n",
       "Time:                        11:00:14   Log-Likelihood:                -6554.5\n",
       "No. Observations:                 522   AIC:                         1.312e+04\n",
       "Df Residuals:                     515   BIC:                         1.315e+04\n",
       "Df Model:                           6                                         \n",
       "Covariance Type:            nonrobust                                         \n",
       "==============================================================================\n",
       "                 coef    std err          t      P>|t|      [0.025      0.975]\n",
       "------------------------------------------------------------------------------\n",
       "const      -6707.5382   1.88e+04     -0.356      0.722   -4.37e+04    3.03e+04\n",
       "x1             1.5550      0.272      5.717      0.000       1.021       2.089\n",
       "x2           125.7386      6.963     18.057      0.000     112.059     139.419\n",
       "x3         -1.304e+04   3780.397     -3.450      0.001   -2.05e+04   -5614.498\n",
       "x4          7987.5518   4818.957      1.658      0.098   -1479.680    1.75e+04\n",
       "x5         -1779.6108    215.487     -8.259      0.000   -2202.953   -1356.268\n",
       "x6          2.253e+04   5814.344      3.875      0.000    1.11e+04     3.4e+04\n",
       "==============================================================================\n",
       "Omnibus:                      124.114   Durbin-Watson:                   1.327\n",
       "Prob(Omnibus):                  0.000   Jarque-Bera (JB):              384.582\n",
       "Skew:                           1.110   Prob(JB):                     3.08e-84\n",
       "Kurtosis:                       6.571   Cond. No.                     1.71e+05\n",
       "==============================================================================\n",
       "\n",
       "Warnings:\n",
       "[1] Standard Errors assume that the covariance matrix of the errors is correctly specified.\n",
       "[2] The condition number is large, 1.71e+05. This might indicate that there are\n",
       "strong multicollinearity or other numerical problems.\n",
       "\"\"\""
      ]
     },
     "execution_count": 13,
     "metadata": {},
     "output_type": "execute_result"
    }
   ],
   "source": [
    "m2 = sm.OLS(Y,x1).fit()\n",
    "m2.summary()"
   ]
  },
  {
   "cell_type": "code",
   "execution_count": 14,
   "metadata": {},
   "outputs": [],
   "source": [
    "# a)"
   ]
  },
  {
   "cell_type": "code",
   "execution_count": 15,
   "metadata": {},
   "outputs": [
    {
     "data": {
      "text/plain": [
       "const    -6707.538167\n",
       "x1           1.554990\n",
       "x2         125.738603\n",
       "x3      -13041.394214\n",
       "x4        7987.551827\n",
       "x5       -1779.610838\n",
       "x6       22530.379289\n",
       "dtype: float64"
      ]
     },
     "execution_count": 15,
     "metadata": {},
     "output_type": "execute_result"
    }
   ],
   "source": [
    "m2.params"
   ]
  },
  {
   "cell_type": "code",
   "execution_count": 16,
   "metadata": {},
   "outputs": [
    {
     "data": {
      "text/html": [
       "<div>\n",
       "<style scoped>\n",
       "    .dataframe tbody tr th:only-of-type {\n",
       "        vertical-align: middle;\n",
       "    }\n",
       "\n",
       "    .dataframe tbody tr th {\n",
       "        vertical-align: top;\n",
       "    }\n",
       "\n",
       "    .dataframe thead th {\n",
       "        text-align: right;\n",
       "    }\n",
       "</style>\n",
       "<table border=\"1\" class=\"dataframe\">\n",
       "  <thead>\n",
       "    <tr style=\"text-align: right;\">\n",
       "      <th></th>\n",
       "      <th>0</th>\n",
       "      <th>1</th>\n",
       "    </tr>\n",
       "  </thead>\n",
       "  <tbody>\n",
       "    <tr>\n",
       "      <th>const</th>\n",
       "      <td>-55431.280841</td>\n",
       "      <td>42016.204508</td>\n",
       "    </tr>\n",
       "    <tr>\n",
       "      <th>x1</th>\n",
       "      <td>0.851721</td>\n",
       "      <td>2.258260</td>\n",
       "    </tr>\n",
       "    <tr>\n",
       "      <th>x2</th>\n",
       "      <td>107.735683</td>\n",
       "      <td>143.741523</td>\n",
       "    </tr>\n",
       "    <tr>\n",
       "      <th>x3</th>\n",
       "      <td>-22815.268707</td>\n",
       "      <td>-3267.519722</td>\n",
       "    </tr>\n",
       "    <tr>\n",
       "      <th>x4</th>\n",
       "      <td>-4471.425313</td>\n",
       "      <td>20446.528968</td>\n",
       "    </tr>\n",
       "    <tr>\n",
       "      <th>x5</th>\n",
       "      <td>-2336.734049</td>\n",
       "      <td>-1222.487627</td>\n",
       "    </tr>\n",
       "    <tr>\n",
       "      <th>x6</th>\n",
       "      <td>7497.919937</td>\n",
       "      <td>37562.838640</td>\n",
       "    </tr>\n",
       "  </tbody>\n",
       "</table>\n",
       "</div>"
      ],
      "text/plain": [
       "                  0             1\n",
       "const -55431.280841  42016.204508\n",
       "x1         0.851721      2.258260\n",
       "x2       107.735683    143.741523\n",
       "x3    -22815.268707  -3267.519722\n",
       "x4     -4471.425313  20446.528968\n",
       "x5     -2336.734049  -1222.487627\n",
       "x6      7497.919937  37562.838640"
      ]
     },
     "execution_count": 16,
     "metadata": {},
     "output_type": "execute_result"
    }
   ],
   "source": [
    "# This is the the estimated regression coefficients (include 99% confidence interval)\n",
    "m2.conf_int(alpha = 0.01)"
   ]
  },
  {
   "cell_type": "code",
   "execution_count": 17,
   "metadata": {},
   "outputs": [],
   "source": [
    "# b)"
   ]
  },
  {
   "cell_type": "code",
   "execution_count": 18,
   "metadata": {},
   "outputs": [
    {
     "data": {
      "text/html": [
       "<div>\n",
       "<style scoped>\n",
       "    .dataframe tbody tr th:only-of-type {\n",
       "        vertical-align: middle;\n",
       "    }\n",
       "\n",
       "    .dataframe tbody tr th {\n",
       "        vertical-align: top;\n",
       "    }\n",
       "\n",
       "    .dataframe thead th {\n",
       "        text-align: right;\n",
       "    }\n",
       "</style>\n",
       "<table border=\"1\" class=\"dataframe\">\n",
       "  <thead>\n",
       "    <tr style=\"text-align: right;\">\n",
       "      <th></th>\n",
       "      <th>constant</th>\n",
       "      <th>lotsize</th>\n",
       "      <th>area</th>\n",
       "      <th>beds</th>\n",
       "      <th>baths</th>\n",
       "      <th>age</th>\n",
       "      <th>garage</th>\n",
       "    </tr>\n",
       "  </thead>\n",
       "  <tbody>\n",
       "    <tr>\n",
       "      <th>0</th>\n",
       "      <td>1</td>\n",
       "      <td>24500</td>\n",
       "      <td>2650</td>\n",
       "      <td>3</td>\n",
       "      <td>3</td>\n",
       "      <td>11</td>\n",
       "      <td>2</td>\n",
       "    </tr>\n",
       "  </tbody>\n",
       "</table>\n",
       "</div>"
      ],
      "text/plain": [
       "   constant  lotsize  area  beds  baths  age  garage\n",
       "0         1    24500  2650     3      3   11       2"
      ]
     },
     "execution_count": 18,
     "metadata": {},
     "output_type": "execute_result"
    }
   ],
   "source": [
    "x_b = pd.DataFrame([[1,24500,2650,3,3,11,2]], columns = ['constant','lotsize', 'area', 'beds', 'baths', 'age', 'garage'])\n",
    "#data_b = {'lotsize':[2], 'area':[24500], 'beds':[3], 'baths':[3], 'age':[11], 'garage':[2]}\n",
    "#x_b = pd.DataFrame(data_b)\n",
    "#x_b = x_b.to_numpy()\n",
    "x_b"
   ]
  },
  {
   "cell_type": "code",
   "execution_count": 19,
   "metadata": {},
   "outputs": [
    {
     "data": {
      "text/html": [
       "<div>\n",
       "<style scoped>\n",
       "    .dataframe tbody tr th:only-of-type {\n",
       "        vertical-align: middle;\n",
       "    }\n",
       "\n",
       "    .dataframe tbody tr th {\n",
       "        vertical-align: top;\n",
       "    }\n",
       "\n",
       "    .dataframe thead th {\n",
       "        text-align: right;\n",
       "    }\n",
       "</style>\n",
       "<table border=\"1\" class=\"dataframe\">\n",
       "  <thead>\n",
       "    <tr style=\"text-align: right;\">\n",
       "      <th></th>\n",
       "      <th>mean</th>\n",
       "      <th>mean_se</th>\n",
       "      <th>mean_ci_lower</th>\n",
       "      <th>mean_ci_upper</th>\n",
       "      <th>obs_ci_lower</th>\n",
       "      <th>obs_ci_upper</th>\n",
       "    </tr>\n",
       "  </thead>\n",
       "  <tbody>\n",
       "    <tr>\n",
       "      <th>0</th>\n",
       "      <td>374920.532647</td>\n",
       "      <td>6511.365875</td>\n",
       "      <td>362128.426983</td>\n",
       "      <td>387712.63831</td>\n",
       "      <td>238431.17994</td>\n",
       "      <td>511409.885353</td>\n",
       "    </tr>\n",
       "  </tbody>\n",
       "</table>\n",
       "</div>"
      ],
      "text/plain": [
       "            mean      mean_se  mean_ci_lower  mean_ci_upper  obs_ci_lower  \\\n",
       "0  374920.532647  6511.365875  362128.426983   387712.63831  238431.17994   \n",
       "\n",
       "    obs_ci_upper  \n",
       "0  511409.885353  "
      ]
     },
     "execution_count": 19,
     "metadata": {},
     "output_type": "execute_result"
    }
   ],
   "source": [
    "#x_b = sm.add_constant(x_b, has_constant = 'constant')\n",
    "m_b = m2.get_prediction(x_b)\n",
    "m_b.summary_frame(alpha = 0.05)\n",
    "\n",
    "# The 95% confidence interval is (362128.426893, 387712.63831)"
   ]
  },
  {
   "cell_type": "code",
   "execution_count": 20,
   "metadata": {},
   "outputs": [],
   "source": [
    "# c)"
   ]
  },
  {
   "cell_type": "code",
   "execution_count": 21,
   "metadata": {},
   "outputs": [],
   "source": [
    "list1.insert(0,'constant')"
   ]
  },
  {
   "cell_type": "code",
   "execution_count": 22,
   "metadata": {},
   "outputs": [
    {
     "data": {
      "text/html": [
       "<div>\n",
       "<style scoped>\n",
       "    .dataframe tbody tr th:only-of-type {\n",
       "        vertical-align: middle;\n",
       "    }\n",
       "\n",
       "    .dataframe tbody tr th {\n",
       "        vertical-align: top;\n",
       "    }\n",
       "\n",
       "    .dataframe thead th {\n",
       "        text-align: right;\n",
       "    }\n",
       "</style>\n",
       "<table border=\"1\" class=\"dataframe\">\n",
       "  <thead>\n",
       "    <tr style=\"text-align: right;\">\n",
       "      <th></th>\n",
       "      <th>constant</th>\n",
       "      <th>lotsize</th>\n",
       "      <th>area</th>\n",
       "      <th>beds</th>\n",
       "      <th>baths</th>\n",
       "      <th>age</th>\n",
       "      <th>garage</th>\n",
       "    </tr>\n",
       "  </thead>\n",
       "  <tbody>\n",
       "    <tr>\n",
       "      <th>0</th>\n",
       "      <td>1</td>\n",
       "      <td>22200.0</td>\n",
       "      <td>2061.0</td>\n",
       "      <td>3.0</td>\n",
       "      <td>3.0</td>\n",
       "      <td>35.0</td>\n",
       "      <td>2.0</td>\n",
       "    </tr>\n",
       "  </tbody>\n",
       "</table>\n",
       "</div>"
      ],
      "text/plain": [
       "   constant  lotsize    area  beds  baths   age  garage\n",
       "0         1  22200.0  2061.0   3.0    3.0  35.0     2.0"
      ]
     },
     "execution_count": 22,
     "metadata": {},
     "output_type": "execute_result"
    }
   ],
   "source": [
    "lotsize_m = statistics.median(df1.lotsize)\n",
    "area_m = statistics.median(df1.area)\n",
    "beds_m = statistics.median(df1.beds)\n",
    "baths_m = statistics.median(df1.baths)\n",
    "age_m = statistics.median(df1.age)\n",
    "garage_m = statistics.median(df1['garage'])\n",
    "list_value = [1, lotsize_m, area_m, beds_m, baths_m, age_m, garage_m]\n",
    "input_x = pd.DataFrame([list_value], columns = list1)\n",
    "input_x"
   ]
  },
  {
   "cell_type": "code",
   "execution_count": 23,
   "metadata": {},
   "outputs": [],
   "source": [
    "d2 = m2.get_prediction(input_x)"
   ]
  },
  {
   "cell_type": "code",
   "execution_count": 24,
   "metadata": {},
   "outputs": [
    {
     "data": {
      "text/html": [
       "<div>\n",
       "<style scoped>\n",
       "    .dataframe tbody tr th:only-of-type {\n",
       "        vertical-align: middle;\n",
       "    }\n",
       "\n",
       "    .dataframe tbody tr th {\n",
       "        vertical-align: top;\n",
       "    }\n",
       "\n",
       "    .dataframe thead th {\n",
       "        text-align: right;\n",
       "    }\n",
       "</style>\n",
       "<table border=\"1\" class=\"dataframe\">\n",
       "  <thead>\n",
       "    <tr style=\"text-align: right;\">\n",
       "      <th></th>\n",
       "      <th>mean</th>\n",
       "      <th>mean_se</th>\n",
       "      <th>mean_ci_lower</th>\n",
       "      <th>mean_ci_upper</th>\n",
       "      <th>obs_ci_lower</th>\n",
       "      <th>obs_ci_upper</th>\n",
       "    </tr>\n",
       "  </thead>\n",
       "  <tbody>\n",
       "    <tr>\n",
       "      <th>0</th>\n",
       "      <td>254573.357919</td>\n",
       "      <td>4595.921615</td>\n",
       "      <td>245544.29765</td>\n",
       "      <td>263602.418187</td>\n",
       "      <td>118385.144904</td>\n",
       "      <td>390761.570933</td>\n",
       "    </tr>\n",
       "  </tbody>\n",
       "</table>\n",
       "</div>"
      ],
      "text/plain": [
       "            mean      mean_se  mean_ci_lower  mean_ci_upper   obs_ci_lower  \\\n",
       "0  254573.357919  4595.921615   245544.29765  263602.418187  118385.144904   \n",
       "\n",
       "    obs_ci_upper  \n",
       "0  390761.570933  "
      ]
     },
     "execution_count": 24,
     "metadata": {},
     "output_type": "execute_result"
    }
   ],
   "source": [
    "d2.summary_frame()\n",
    "# with 95% confidence interval\n",
    "\n",
    "# The price is 254573.357919 for the prediction."
   ]
  },
  {
   "cell_type": "markdown",
   "metadata": {},
   "source": [
    "# Question3"
   ]
  },
  {
   "cell_type": "code",
   "execution_count": 25,
   "metadata": {},
   "outputs": [],
   "source": [
    "list2 = ['price','lotsize','area','beds','baths','age','garage']\n",
    "xz = df1[list2]"
   ]
  },
  {
   "cell_type": "code",
   "execution_count": 26,
   "metadata": {},
   "outputs": [
    {
     "data": {
      "text/html": [
       "<div>\n",
       "<style scoped>\n",
       "    .dataframe tbody tr th:only-of-type {\n",
       "        vertical-align: middle;\n",
       "    }\n",
       "\n",
       "    .dataframe tbody tr th {\n",
       "        vertical-align: top;\n",
       "    }\n",
       "\n",
       "    .dataframe thead th {\n",
       "        text-align: right;\n",
       "    }\n",
       "</style>\n",
       "<table border=\"1\" class=\"dataframe\">\n",
       "  <thead>\n",
       "    <tr style=\"text-align: right;\">\n",
       "      <th></th>\n",
       "      <th>price</th>\n",
       "      <th>lotsize</th>\n",
       "      <th>area</th>\n",
       "      <th>beds</th>\n",
       "      <th>baths</th>\n",
       "      <th>age</th>\n",
       "      <th>garage</th>\n",
       "    </tr>\n",
       "  </thead>\n",
       "  <tbody>\n",
       "    <tr>\n",
       "      <th>price</th>\n",
       "      <td>1.000000</td>\n",
       "      <td>0.224169</td>\n",
       "      <td>0.819470</td>\n",
       "      <td>0.413324</td>\n",
       "      <td>0.683685</td>\n",
       "      <td>-0.555516</td>\n",
       "      <td>0.577786</td>\n",
       "    </tr>\n",
       "    <tr>\n",
       "      <th>lotsize</th>\n",
       "      <td>0.224169</td>\n",
       "      <td>1.000000</td>\n",
       "      <td>0.157525</td>\n",
       "      <td>0.126538</td>\n",
       "      <td>0.147007</td>\n",
       "      <td>0.100452</td>\n",
       "      <td>0.152219</td>\n",
       "    </tr>\n",
       "    <tr>\n",
       "      <th>area</th>\n",
       "      <td>0.819470</td>\n",
       "      <td>0.157525</td>\n",
       "      <td>1.000000</td>\n",
       "      <td>0.557838</td>\n",
       "      <td>0.755273</td>\n",
       "      <td>-0.441197</td>\n",
       "      <td>0.533766</td>\n",
       "    </tr>\n",
       "    <tr>\n",
       "      <th>beds</th>\n",
       "      <td>0.413324</td>\n",
       "      <td>0.126538</td>\n",
       "      <td>0.557838</td>\n",
       "      <td>1.000000</td>\n",
       "      <td>0.583447</td>\n",
       "      <td>-0.268692</td>\n",
       "      <td>0.316814</td>\n",
       "    </tr>\n",
       "    <tr>\n",
       "      <th>baths</th>\n",
       "      <td>0.683685</td>\n",
       "      <td>0.147007</td>\n",
       "      <td>0.755273</td>\n",
       "      <td>0.583447</td>\n",
       "      <td>1.000000</td>\n",
       "      <td>-0.512841</td>\n",
       "      <td>0.489898</td>\n",
       "    </tr>\n",
       "    <tr>\n",
       "      <th>age</th>\n",
       "      <td>-0.555516</td>\n",
       "      <td>0.100452</td>\n",
       "      <td>-0.441197</td>\n",
       "      <td>-0.268692</td>\n",
       "      <td>-0.512841</td>\n",
       "      <td>1.000000</td>\n",
       "      <td>-0.461760</td>\n",
       "    </tr>\n",
       "    <tr>\n",
       "      <th>garage</th>\n",
       "      <td>0.577786</td>\n",
       "      <td>0.152219</td>\n",
       "      <td>0.533766</td>\n",
       "      <td>0.316814</td>\n",
       "      <td>0.489898</td>\n",
       "      <td>-0.461760</td>\n",
       "      <td>1.000000</td>\n",
       "    </tr>\n",
       "  </tbody>\n",
       "</table>\n",
       "</div>"
      ],
      "text/plain": [
       "            price   lotsize      area      beds     baths       age    garage\n",
       "price    1.000000  0.224169  0.819470  0.413324  0.683685 -0.555516  0.577786\n",
       "lotsize  0.224169  1.000000  0.157525  0.126538  0.147007  0.100452  0.152219\n",
       "area     0.819470  0.157525  1.000000  0.557838  0.755273 -0.441197  0.533766\n",
       "beds     0.413324  0.126538  0.557838  1.000000  0.583447 -0.268692  0.316814\n",
       "baths    0.683685  0.147007  0.755273  0.583447  1.000000 -0.512841  0.489898\n",
       "age     -0.555516  0.100452 -0.441197 -0.268692 -0.512841  1.000000 -0.461760\n",
       "garage   0.577786  0.152219  0.533766  0.316814  0.489898 -0.461760  1.000000"
      ]
     },
     "execution_count": 26,
     "metadata": {},
     "output_type": "execute_result"
    }
   ],
   "source": [
    "xz.corr()"
   ]
  },
  {
   "cell_type": "code",
   "execution_count": 27,
   "metadata": {},
   "outputs": [],
   "source": [
    "# The best predictor is area, the worst predictor is lotsize"
   ]
  },
  {
   "cell_type": "markdown",
   "metadata": {},
   "source": [
    "# Question 4"
   ]
  },
  {
   "cell_type": "code",
   "execution_count": 28,
   "metadata": {},
   "outputs": [],
   "source": [
    "col_names = x0.columns"
   ]
  },
  {
   "cell_type": "code",
   "execution_count": 29,
   "metadata": {},
   "outputs": [
    {
     "data": {
      "text/plain": [
       "6"
      ]
     },
     "execution_count": 29,
     "metadata": {},
     "output_type": "execute_result"
    }
   ],
   "source": [
    "p = len(col_names)\n",
    "p"
   ]
  },
  {
   "cell_type": "code",
   "execution_count": 30,
   "metadata": {},
   "outputs": [],
   "source": [
    "itertools.combinations(col_names,2)\n",
    "a = list(itertools.combinations(col_names,2))"
   ]
  },
  {
   "cell_type": "code",
   "execution_count": 31,
   "metadata": {},
   "outputs": [],
   "source": [
    "m3 = LinearRegression().fit(x0, Y)\n",
    "MSE = mean_squared_error(Y, m3.predict(x0))\n",
    "SSE = MSE * len(Y)\n",
    "R_squared = m3.score(x0,Y)"
   ]
  },
  {
   "cell_type": "code",
   "execution_count": 32,
   "metadata": {},
   "outputs": [
    {
     "data": {
      "text/plain": [
       "[1, 2, 3, 4, 5, 6]"
      ]
     },
     "execution_count": 32,
     "metadata": {},
     "output_type": "execute_result"
    }
   ],
   "source": [
    "list(range(1, p+1))"
   ]
  },
  {
   "cell_type": "code",
   "execution_count": 33,
   "metadata": {},
   "outputs": [],
   "source": [
    "# function returns SSE, R-squared"
   ]
  },
  {
   "cell_type": "code",
   "execution_count": 34,
   "metadata": {},
   "outputs": [],
   "source": [
    "def get_sse(input, output):\n",
    "    model_k = LinearRegression().fit(input, output)\n",
    "    SSE = mean_squared_error(output, model_k.predict(input))*len(output)\n",
    "    R_squared = model_k.score(input, output)\n",
    "    return SSE, R_squared\n",
    "SSE, R_squared = get_sse(x0, Y)"
   ]
  },
  {
   "cell_type": "code",
   "execution_count": 35,
   "metadata": {},
   "outputs": [
    {
     "data": {
      "text/plain": [
       "(7920249651757.256, 0.2008556085544264)"
      ]
     },
     "execution_count": 35,
     "metadata": {},
     "output_type": "execute_result"
    }
   ],
   "source": [
    "SSE_list, R2_list, feature_list, num_features = [], [], [], []\n",
    "get_sse(x0[list(a[1])], Y)"
   ]
  },
  {
   "cell_type": "code",
   "execution_count": 36,
   "metadata": {},
   "outputs": [],
   "source": [
    "for i in range(1, p+1):\n",
    "    for subset in itertools.combinations(x0.columns, i):\n",
    "        temp = get_sse(x0[list(subset)], Y)\n",
    "        SSE_list.append(temp[0])\n",
    "        R2_list.append(temp[1])\n",
    "        feature_list.append(subset)\n",
    "        num_features.append(len(subset))"
   ]
  },
  {
   "cell_type": "code",
   "execution_count": 37,
   "metadata": {},
   "outputs": [],
   "source": [
    "# Create dataframe with 4 cols"
   ]
  },
  {
   "cell_type": "code",
   "execution_count": 38,
   "metadata": {},
   "outputs": [
    {
     "data": {
      "text/plain": [
       "(63, 4)"
      ]
     },
     "execution_count": 38,
     "metadata": {},
     "output_type": "execute_result"
    }
   ],
   "source": [
    "df3 = pd.DataFrame(num_features, columns = ['n_features'])\n",
    "df3['features'] = feature_list\n",
    "df3['R-squared'] = R2_list\n",
    "SSE_list2 = np.round(SSE_list, 0)\n",
    "df3['SSE'] = SSE_list2\n",
    "df3.shape"
   ]
  },
  {
   "cell_type": "code",
   "execution_count": 39,
   "metadata": {},
   "outputs": [
    {
     "data": {
      "text/plain": [
       "0.7513894013091613"
      ]
     },
     "execution_count": 39,
     "metadata": {},
     "output_type": "execute_result"
    }
   ],
   "source": [
    "df3['R-squared'].max()"
   ]
  },
  {
   "cell_type": "code",
   "execution_count": 40,
   "metadata": {},
   "outputs": [
    {
     "data": {
      "text/plain": [
       "n_features                    6\n",
       "features      (lotsize, garage)\n",
       "R-squared              0.751389\n",
       "SSE                 9.41287e+12\n",
       "dtype: object"
      ]
     },
     "execution_count": 40,
     "metadata": {},
     "output_type": "execute_result"
    }
   ],
   "source": [
    "df3.max()"
   ]
  },
  {
   "cell_type": "code",
   "execution_count": 41,
   "metadata": {},
   "outputs": [
    {
     "data": {
      "text/html": [
       "<div>\n",
       "<style scoped>\n",
       "    .dataframe tbody tr th:only-of-type {\n",
       "        vertical-align: middle;\n",
       "    }\n",
       "\n",
       "    .dataframe tbody tr th {\n",
       "        vertical-align: top;\n",
       "    }\n",
       "\n",
       "    .dataframe thead th {\n",
       "        text-align: right;\n",
       "    }\n",
       "</style>\n",
       "<table border=\"1\" class=\"dataframe\">\n",
       "  <thead>\n",
       "    <tr style=\"text-align: right;\">\n",
       "      <th></th>\n",
       "      <th>n_features</th>\n",
       "      <th>features</th>\n",
       "      <th>R-squared</th>\n",
       "      <th>SSE</th>\n",
       "    </tr>\n",
       "  </thead>\n",
       "  <tbody>\n",
       "    <tr>\n",
       "      <th>62</th>\n",
       "      <td>6</td>\n",
       "      <td>(lotsize, area, beds, baths, age, garage)</td>\n",
       "      <td>0.751389</td>\n",
       "      <td>2.463958e+12</td>\n",
       "    </tr>\n",
       "  </tbody>\n",
       "</table>\n",
       "</div>"
      ],
      "text/plain": [
       "    n_features                                   features  R-squared  \\\n",
       "62           6  (lotsize, area, beds, baths, age, garage)   0.751389   \n",
       "\n",
       "             SSE  \n",
       "62  2.463958e+12  "
      ]
     },
     "execution_count": 41,
     "metadata": {},
     "output_type": "execute_result"
    }
   ],
   "source": [
    "df3[-1:]"
   ]
  },
  {
   "cell_type": "code",
   "execution_count": 42,
   "metadata": {},
   "outputs": [
    {
     "data": {
      "text/plain": [
       "R-squared    62\n",
       "dtype: int64"
      ]
     },
     "execution_count": 42,
     "metadata": {},
     "output_type": "execute_result"
    }
   ],
   "source": [
    "df3[['R-squared']].idxmax()"
   ]
  },
  {
   "cell_type": "code",
   "execution_count": 43,
   "metadata": {},
   "outputs": [],
   "source": [
    "# group by n_features"
   ]
  },
  {
   "cell_type": "code",
   "execution_count": 44,
   "metadata": {},
   "outputs": [],
   "source": [
    "best_r2 = df3.groupby(['n_features'])['R-squared'].max()\n",
    "worst_r2 = df3.groupby(['n_features'])['R-squared'].min()"
   ]
  },
  {
   "cell_type": "code",
   "execution_count": 45,
   "metadata": {},
   "outputs": [
    {
     "data": {
      "text/html": [
       "<div>\n",
       "<style scoped>\n",
       "    .dataframe tbody tr th:only-of-type {\n",
       "        vertical-align: middle;\n",
       "    }\n",
       "\n",
       "    .dataframe tbody tr th {\n",
       "        vertical-align: top;\n",
       "    }\n",
       "\n",
       "    .dataframe thead th {\n",
       "        text-align: right;\n",
       "    }\n",
       "</style>\n",
       "<table border=\"1\" class=\"dataframe\">\n",
       "  <thead>\n",
       "    <tr style=\"text-align: right;\">\n",
       "      <th></th>\n",
       "      <th>n_features</th>\n",
       "      <th>features</th>\n",
       "      <th>R-squared</th>\n",
       "      <th>SSE</th>\n",
       "    </tr>\n",
       "  </thead>\n",
       "  <tbody>\n",
       "    <tr>\n",
       "      <th>1</th>\n",
       "      <td>1</td>\n",
       "      <td>(area,)</td>\n",
       "      <td>0.671531</td>\n",
       "      <td>3.255426e+12</td>\n",
       "    </tr>\n",
       "  </tbody>\n",
       "</table>\n",
       "</div>"
      ],
      "text/plain": [
       "   n_features features  R-squared           SSE\n",
       "1           1  (area,)   0.671531  3.255426e+12"
      ]
     },
     "execution_count": 45,
     "metadata": {},
     "output_type": "execute_result"
    }
   ],
   "source": [
    "# dataframe with best single predictors\n",
    "best_p1 = df3[df3['R-squared'] == best_r2[1]]\n",
    "best_p1\n",
    "\n",
    "# This is the best predictor."
   ]
  },
  {
   "cell_type": "code",
   "execution_count": 46,
   "metadata": {},
   "outputs": [
    {
     "data": {
      "text/html": [
       "<div>\n",
       "<style scoped>\n",
       "    .dataframe tbody tr th:only-of-type {\n",
       "        vertical-align: middle;\n",
       "    }\n",
       "\n",
       "    .dataframe tbody tr th {\n",
       "        vertical-align: top;\n",
       "    }\n",
       "\n",
       "    .dataframe thead th {\n",
       "        text-align: right;\n",
       "    }\n",
       "</style>\n",
       "<table border=\"1\" class=\"dataframe\">\n",
       "  <thead>\n",
       "    <tr style=\"text-align: right;\">\n",
       "      <th></th>\n",
       "      <th>n_features</th>\n",
       "      <th>features</th>\n",
       "      <th>R-squared</th>\n",
       "      <th>SSE</th>\n",
       "    </tr>\n",
       "  </thead>\n",
       "  <tbody>\n",
       "    <tr>\n",
       "      <th>13</th>\n",
       "      <td>2</td>\n",
       "      <td>(area, age)</td>\n",
       "      <td>0.718249</td>\n",
       "      <td>2.792410e+12</td>\n",
       "    </tr>\n",
       "  </tbody>\n",
       "</table>\n",
       "</div>"
      ],
      "text/plain": [
       "    n_features     features  R-squared           SSE\n",
       "13           2  (area, age)   0.718249  2.792410e+12"
      ]
     },
     "execution_count": 46,
     "metadata": {},
     "output_type": "execute_result"
    }
   ],
   "source": [
    "# dataframe with best two predictors\n",
    "best_p2 = df3[df3['R-squared'] == best_r2[2]]\n",
    "best_p2"
   ]
  },
  {
   "cell_type": "code",
   "execution_count": 47,
   "metadata": {},
   "outputs": [
    {
     "data": {
      "text/html": [
       "<div>\n",
       "<style scoped>\n",
       "    .dataframe tbody tr th:only-of-type {\n",
       "        vertical-align: middle;\n",
       "    }\n",
       "\n",
       "    .dataframe tbody tr th {\n",
       "        vertical-align: top;\n",
       "    }\n",
       "\n",
       "    .dataframe thead th {\n",
       "        text-align: right;\n",
       "    }\n",
       "</style>\n",
       "<table border=\"1\" class=\"dataframe\">\n",
       "  <thead>\n",
       "    <tr style=\"text-align: right;\">\n",
       "      <th></th>\n",
       "      <th>n_features</th>\n",
       "      <th>features</th>\n",
       "      <th>R-squared</th>\n",
       "      <th>SSE</th>\n",
       "    </tr>\n",
       "  </thead>\n",
       "  <tbody>\n",
       "    <tr>\n",
       "      <th>23</th>\n",
       "      <td>3</td>\n",
       "      <td>(lotsize, area, age)</td>\n",
       "      <td>0.737944</td>\n",
       "      <td>2.597213e+12</td>\n",
       "    </tr>\n",
       "  </tbody>\n",
       "</table>\n",
       "</div>"
      ],
      "text/plain": [
       "    n_features              features  R-squared           SSE\n",
       "23           3  (lotsize, area, age)   0.737944  2.597213e+12"
      ]
     },
     "execution_count": 47,
     "metadata": {},
     "output_type": "execute_result"
    }
   ],
   "source": [
    "# dataframe with best three predictors\n",
    "best_p3 = df3[df3['R-squared'] == best_r2[3]]\n",
    "best_p3"
   ]
  },
  {
   "cell_type": "code",
   "execution_count": 48,
   "metadata": {},
   "outputs": [
    {
     "data": {
      "text/html": [
       "<div>\n",
       "<style scoped>\n",
       "    .dataframe tbody tr th:only-of-type {\n",
       "        vertical-align: middle;\n",
       "    }\n",
       "\n",
       "    .dataframe tbody tr th {\n",
       "        vertical-align: top;\n",
       "    }\n",
       "\n",
       "    .dataframe thead th {\n",
       "        text-align: right;\n",
       "    }\n",
       "</style>\n",
       "<table border=\"1\" class=\"dataframe\">\n",
       "  <thead>\n",
       "    <tr style=\"text-align: right;\">\n",
       "      <th></th>\n",
       "      <th>n_features</th>\n",
       "      <th>features</th>\n",
       "      <th>R-squared</th>\n",
       "      <th>SSE</th>\n",
       "    </tr>\n",
       "  </thead>\n",
       "  <tbody>\n",
       "    <tr>\n",
       "      <th>46</th>\n",
       "      <td>4</td>\n",
       "      <td>(lotsize, area, age, garage)</td>\n",
       "      <td>0.745438</td>\n",
       "      <td>2.522941e+12</td>\n",
       "    </tr>\n",
       "  </tbody>\n",
       "</table>\n",
       "</div>"
      ],
      "text/plain": [
       "    n_features                      features  R-squared           SSE\n",
       "46           4  (lotsize, area, age, garage)   0.745438  2.522941e+12"
      ]
     },
     "execution_count": 48,
     "metadata": {},
     "output_type": "execute_result"
    }
   ],
   "source": [
    "# dataframe with best four predictors\n",
    "best_p4 = df3[df3['R-squared'] == best_r2[4]]\n",
    "best_p4"
   ]
  },
  {
   "cell_type": "code",
   "execution_count": 49,
   "metadata": {},
   "outputs": [
    {
     "data": {
      "text/html": [
       "<div>\n",
       "<style scoped>\n",
       "    .dataframe tbody tr th:only-of-type {\n",
       "        vertical-align: middle;\n",
       "    }\n",
       "\n",
       "    .dataframe tbody tr th {\n",
       "        vertical-align: top;\n",
       "    }\n",
       "\n",
       "    .dataframe thead th {\n",
       "        text-align: right;\n",
       "    }\n",
       "</style>\n",
       "<table border=\"1\" class=\"dataframe\">\n",
       "  <thead>\n",
       "    <tr style=\"text-align: right;\">\n",
       "      <th></th>\n",
       "      <th>n_features</th>\n",
       "      <th>features</th>\n",
       "      <th>R-squared</th>\n",
       "      <th>SSE</th>\n",
       "    </tr>\n",
       "  </thead>\n",
       "  <tbody>\n",
       "    <tr>\n",
       "      <th>58</th>\n",
       "      <td>5</td>\n",
       "      <td>(lotsize, area, beds, age, garage)</td>\n",
       "      <td>0.750063</td>\n",
       "      <td>2.477102e+12</td>\n",
       "    </tr>\n",
       "  </tbody>\n",
       "</table>\n",
       "</div>"
      ],
      "text/plain": [
       "    n_features                            features  R-squared           SSE\n",
       "58           5  (lotsize, area, beds, age, garage)   0.750063  2.477102e+12"
      ]
     },
     "execution_count": 49,
     "metadata": {},
     "output_type": "execute_result"
    }
   ],
   "source": [
    "# dataframe with best five predictors\n",
    "best_p5 = df3[df3['R-squared'] == best_r2[5]]\n",
    "best_p5"
   ]
  },
  {
   "cell_type": "code",
   "execution_count": 50,
   "metadata": {},
   "outputs": [
    {
     "data": {
      "text/html": [
       "<div>\n",
       "<style scoped>\n",
       "    .dataframe tbody tr th:only-of-type {\n",
       "        vertical-align: middle;\n",
       "    }\n",
       "\n",
       "    .dataframe tbody tr th {\n",
       "        vertical-align: top;\n",
       "    }\n",
       "\n",
       "    .dataframe thead th {\n",
       "        text-align: right;\n",
       "    }\n",
       "</style>\n",
       "<table border=\"1\" class=\"dataframe\">\n",
       "  <thead>\n",
       "    <tr style=\"text-align: right;\">\n",
       "      <th></th>\n",
       "      <th>n_features</th>\n",
       "      <th>features</th>\n",
       "      <th>R-squared</th>\n",
       "      <th>SSE</th>\n",
       "    </tr>\n",
       "  </thead>\n",
       "  <tbody>\n",
       "    <tr>\n",
       "      <th>62</th>\n",
       "      <td>6</td>\n",
       "      <td>(lotsize, area, beds, baths, age, garage)</td>\n",
       "      <td>0.751389</td>\n",
       "      <td>2.463958e+12</td>\n",
       "    </tr>\n",
       "  </tbody>\n",
       "</table>\n",
       "</div>"
      ],
      "text/plain": [
       "    n_features                                   features  R-squared  \\\n",
       "62           6  (lotsize, area, beds, baths, age, garage)   0.751389   \n",
       "\n",
       "             SSE  \n",
       "62  2.463958e+12  "
      ]
     },
     "execution_count": 50,
     "metadata": {},
     "output_type": "execute_result"
    }
   ],
   "source": [
    "# dataframe with best six predictors\n",
    "best_p6 = df3[df3['R-squared'] == best_r2[6]]\n",
    "best_p6\n",
    "\n",
    "# As you can see, the baths is the last variable enter the model, \n",
    "# we can know bath is the worst predictors.\n",
    "# The best predictor is area."
   ]
  },
  {
   "cell_type": "markdown",
   "metadata": {},
   "source": [
    "# Question5"
   ]
  },
  {
   "cell_type": "code",
   "execution_count": 51,
   "metadata": {},
   "outputs": [],
   "source": [
    "# add AIC, adj R-squared columns"
   ]
  },
  {
   "cell_type": "code",
   "execution_count": 52,
   "metadata": {},
   "outputs": [],
   "source": [
    "n = 522\n",
    "df3['AIC'] = n * np.log(df3['SSE']/n) + 2*df3['n_features']\n",
    "df3['adj_R-squared'] = 1 - ((1 - df3['R-squared'])*(n-1)/(n-df3['n_features'] - 1))"
   ]
  },
  {
   "cell_type": "code",
   "execution_count": 53,
   "metadata": {},
   "outputs": [
    {
     "data": {
      "text/html": [
       "<div>\n",
       "<style scoped>\n",
       "    .dataframe tbody tr th:only-of-type {\n",
       "        vertical-align: middle;\n",
       "    }\n",
       "\n",
       "    .dataframe tbody tr th {\n",
       "        vertical-align: top;\n",
       "    }\n",
       "\n",
       "    .dataframe thead th {\n",
       "        text-align: right;\n",
       "    }\n",
       "</style>\n",
       "<table border=\"1\" class=\"dataframe\">\n",
       "  <thead>\n",
       "    <tr style=\"text-align: right;\">\n",
       "      <th></th>\n",
       "      <th>n_features</th>\n",
       "      <th>features</th>\n",
       "      <th>R-squared</th>\n",
       "      <th>SSE</th>\n",
       "      <th>AIC</th>\n",
       "      <th>adj_R-squared</th>\n",
       "    </tr>\n",
       "  </thead>\n",
       "  <tbody>\n",
       "    <tr>\n",
       "      <th>62</th>\n",
       "      <td>6</td>\n",
       "      <td>(lotsize, area, beds, baths, age, garage)</td>\n",
       "      <td>0.751389</td>\n",
       "      <td>2.463958e+12</td>\n",
       "      <td>11639.613904</td>\n",
       "      <td>0.748493</td>\n",
       "    </tr>\n",
       "  </tbody>\n",
       "</table>\n",
       "</div>"
      ],
      "text/plain": [
       "    n_features                                   features  R-squared  \\\n",
       "62           6  (lotsize, area, beds, baths, age, garage)   0.751389   \n",
       "\n",
       "             SSE           AIC  adj_R-squared  \n",
       "62  2.463958e+12  11639.613904       0.748493  "
      ]
     },
     "execution_count": 53,
     "metadata": {},
     "output_type": "execute_result"
    }
   ],
   "source": [
    "# AIC best model\n",
    "df3[df3.AIC == df3.AIC.min()]"
   ]
  },
  {
   "cell_type": "code",
   "execution_count": 54,
   "metadata": {},
   "outputs": [],
   "source": [
    "list_A = ['lotsize', 'area', 'beds', 'baths', 'age', 'garage']\n",
    "df_new = df[list_A]"
   ]
  },
  {
   "cell_type": "code",
   "execution_count": 55,
   "metadata": {},
   "outputs": [
    {
     "data": {
      "text/html": [
       "<table class=\"simpletable\">\n",
       "<caption>OLS Regression Results</caption>\n",
       "<tr>\n",
       "  <th>Dep. Variable:</th>          <td>price</td>      <th>  R-squared:         </th> <td>   0.751</td> \n",
       "</tr>\n",
       "<tr>\n",
       "  <th>Model:</th>                   <td>OLS</td>       <th>  Adj. R-squared:    </th> <td>   0.748</td> \n",
       "</tr>\n",
       "<tr>\n",
       "  <th>Method:</th>             <td>Least Squares</td>  <th>  F-statistic:       </th> <td>   259.4</td> \n",
       "</tr>\n",
       "<tr>\n",
       "  <th>Date:</th>             <td>Wed, 25 Sep 2019</td> <th>  Prob (F-statistic):</th> <td>4.21e-152</td>\n",
       "</tr>\n",
       "<tr>\n",
       "  <th>Time:</th>                 <td>11:00:43</td>     <th>  Log-Likelihood:    </th> <td> -6554.5</td> \n",
       "</tr>\n",
       "<tr>\n",
       "  <th>No. Observations:</th>      <td>   522</td>      <th>  AIC:               </th> <td>1.312e+04</td>\n",
       "</tr>\n",
       "<tr>\n",
       "  <th>Df Residuals:</th>          <td>   515</td>      <th>  BIC:               </th> <td>1.315e+04</td>\n",
       "</tr>\n",
       "<tr>\n",
       "  <th>Df Model:</th>              <td>     6</td>      <th>                     </th>     <td> </td>    \n",
       "</tr>\n",
       "<tr>\n",
       "  <th>Covariance Type:</th>      <td>nonrobust</td>    <th>                     </th>     <td> </td>    \n",
       "</tr>\n",
       "</table>\n",
       "<table class=\"simpletable\">\n",
       "<tr>\n",
       "    <td></td>       <th>coef</th>     <th>std err</th>      <th>t</th>      <th>P>|t|</th>  <th>[0.025</th>    <th>0.975]</th>  \n",
       "</tr>\n",
       "<tr>\n",
       "  <th>const</th> <td>-6707.5382</td> <td> 1.88e+04</td> <td>   -0.356</td> <td> 0.722</td> <td>-4.37e+04</td> <td> 3.03e+04</td>\n",
       "</tr>\n",
       "<tr>\n",
       "  <th>x1</th>    <td>    1.5550</td> <td>    0.272</td> <td>    5.717</td> <td> 0.000</td> <td>    1.021</td> <td>    2.089</td>\n",
       "</tr>\n",
       "<tr>\n",
       "  <th>x2</th>    <td>  125.7386</td> <td>    6.963</td> <td>   18.057</td> <td> 0.000</td> <td>  112.059</td> <td>  139.419</td>\n",
       "</tr>\n",
       "<tr>\n",
       "  <th>x3</th>    <td>-1.304e+04</td> <td> 3780.397</td> <td>   -3.450</td> <td> 0.001</td> <td>-2.05e+04</td> <td>-5614.498</td>\n",
       "</tr>\n",
       "<tr>\n",
       "  <th>x4</th>    <td> 7987.5518</td> <td> 4818.957</td> <td>    1.658</td> <td> 0.098</td> <td>-1479.680</td> <td> 1.75e+04</td>\n",
       "</tr>\n",
       "<tr>\n",
       "  <th>x5</th>    <td>-1779.6108</td> <td>  215.487</td> <td>   -8.259</td> <td> 0.000</td> <td>-2202.953</td> <td>-1356.268</td>\n",
       "</tr>\n",
       "<tr>\n",
       "  <th>x6</th>    <td> 2.253e+04</td> <td> 5814.344</td> <td>    3.875</td> <td> 0.000</td> <td> 1.11e+04</td> <td>  3.4e+04</td>\n",
       "</tr>\n",
       "</table>\n",
       "<table class=\"simpletable\">\n",
       "<tr>\n",
       "  <th>Omnibus:</th>       <td>124.114</td> <th>  Durbin-Watson:     </th> <td>   1.327</td>\n",
       "</tr>\n",
       "<tr>\n",
       "  <th>Prob(Omnibus):</th> <td> 0.000</td>  <th>  Jarque-Bera (JB):  </th> <td> 384.582</td>\n",
       "</tr>\n",
       "<tr>\n",
       "  <th>Skew:</th>          <td> 1.110</td>  <th>  Prob(JB):          </th> <td>3.08e-84</td>\n",
       "</tr>\n",
       "<tr>\n",
       "  <th>Kurtosis:</th>      <td> 6.571</td>  <th>  Cond. No.          </th> <td>1.71e+05</td>\n",
       "</tr>\n",
       "</table><br/><br/>Warnings:<br/>[1] Standard Errors assume that the covariance matrix of the errors is correctly specified.<br/>[2] The condition number is large, 1.71e+05. This might indicate that there are<br/>strong multicollinearity or other numerical problems."
      ],
      "text/plain": [
       "<class 'statsmodels.iolib.summary.Summary'>\n",
       "\"\"\"\n",
       "                            OLS Regression Results                            \n",
       "==============================================================================\n",
       "Dep. Variable:                  price   R-squared:                       0.751\n",
       "Model:                            OLS   Adj. R-squared:                  0.748\n",
       "Method:                 Least Squares   F-statistic:                     259.4\n",
       "Date:                Wed, 25 Sep 2019   Prob (F-statistic):          4.21e-152\n",
       "Time:                        11:00:43   Log-Likelihood:                -6554.5\n",
       "No. Observations:                 522   AIC:                         1.312e+04\n",
       "Df Residuals:                     515   BIC:                         1.315e+04\n",
       "Df Model:                           6                                         \n",
       "Covariance Type:            nonrobust                                         \n",
       "==============================================================================\n",
       "                 coef    std err          t      P>|t|      [0.025      0.975]\n",
       "------------------------------------------------------------------------------\n",
       "const      -6707.5382   1.88e+04     -0.356      0.722   -4.37e+04    3.03e+04\n",
       "x1             1.5550      0.272      5.717      0.000       1.021       2.089\n",
       "x2           125.7386      6.963     18.057      0.000     112.059     139.419\n",
       "x3         -1.304e+04   3780.397     -3.450      0.001   -2.05e+04   -5614.498\n",
       "x4          7987.5518   4818.957      1.658      0.098   -1479.680    1.75e+04\n",
       "x5         -1779.6108    215.487     -8.259      0.000   -2202.953   -1356.268\n",
       "x6          2.253e+04   5814.344      3.875      0.000    1.11e+04     3.4e+04\n",
       "==============================================================================\n",
       "Omnibus:                      124.114   Durbin-Watson:                   1.327\n",
       "Prob(Omnibus):                  0.000   Jarque-Bera (JB):              384.582\n",
       "Skew:                           1.110   Prob(JB):                     3.08e-84\n",
       "Kurtosis:                       6.571   Cond. No.                     1.71e+05\n",
       "==============================================================================\n",
       "\n",
       "Warnings:\n",
       "[1] Standard Errors assume that the covariance matrix of the errors is correctly specified.\n",
       "[2] The condition number is large, 1.71e+05. This might indicate that there are\n",
       "strong multicollinearity or other numerical problems.\n",
       "\"\"\""
      ]
     },
     "execution_count": 55,
     "metadata": {},
     "output_type": "execute_result"
    }
   ],
   "source": [
    "x_new = df_new\n",
    "x_new = x_new.to_numpy()\n",
    "x_new = sm.add_constant(x_new)\n",
    "m4 = sm.OLS(Y, x_new).fit()\n",
    "m4.summary()"
   ]
  },
  {
   "cell_type": "code",
   "execution_count": 56,
   "metadata": {},
   "outputs": [
    {
     "data": {
      "text/plain": [
       "const    -6707.538167\n",
       "x1           1.554990\n",
       "x2         125.738603\n",
       "x3      -13041.394214\n",
       "x4        7987.551827\n",
       "x5       -1779.610838\n",
       "x6       22530.379289\n",
       "dtype: float64"
      ]
     },
     "execution_count": 56,
     "metadata": {},
     "output_type": "execute_result"
    }
   ],
   "source": [
    "m4.params"
   ]
  },
  {
   "cell_type": "code",
   "execution_count": 57,
   "metadata": {},
   "outputs": [],
   "source": [
    "# fitted equations:\n",
    "# yhat = -6707.54 + 1.56 lotsize + 125.74 area - 13041.39 beds + 7987.55 baths - 1779.61 ages\n",
    "#        + 22530.38 garage"
   ]
  },
  {
   "cell_type": "markdown",
   "metadata": {},
   "source": [
    "# Question6"
   ]
  },
  {
   "cell_type": "code",
   "execution_count": 58,
   "metadata": {},
   "outputs": [
    {
     "data": {
      "text/html": [
       "<div>\n",
       "<style scoped>\n",
       "    .dataframe tbody tr th:only-of-type {\n",
       "        vertical-align: middle;\n",
       "    }\n",
       "\n",
       "    .dataframe tbody tr th {\n",
       "        vertical-align: top;\n",
       "    }\n",
       "\n",
       "    .dataframe thead th {\n",
       "        text-align: right;\n",
       "    }\n",
       "</style>\n",
       "<table border=\"1\" class=\"dataframe\">\n",
       "  <thead>\n",
       "    <tr style=\"text-align: right;\">\n",
       "      <th></th>\n",
       "      <th>lotsize</th>\n",
       "      <th>quality_LOW</th>\n",
       "      <th>quality_MEDIUM</th>\n",
       "    </tr>\n",
       "  </thead>\n",
       "  <tbody>\n",
       "    <tr>\n",
       "      <th>0</th>\n",
       "      <td>22221</td>\n",
       "      <td>0</td>\n",
       "      <td>1</td>\n",
       "    </tr>\n",
       "    <tr>\n",
       "      <th>1</th>\n",
       "      <td>22912</td>\n",
       "      <td>0</td>\n",
       "      <td>1</td>\n",
       "    </tr>\n",
       "    <tr>\n",
       "      <th>2</th>\n",
       "      <td>21345</td>\n",
       "      <td>0</td>\n",
       "      <td>1</td>\n",
       "    </tr>\n",
       "    <tr>\n",
       "      <th>3</th>\n",
       "      <td>17342</td>\n",
       "      <td>0</td>\n",
       "      <td>1</td>\n",
       "    </tr>\n",
       "    <tr>\n",
       "      <th>4</th>\n",
       "      <td>21786</td>\n",
       "      <td>0</td>\n",
       "      <td>1</td>\n",
       "    </tr>\n",
       "  </tbody>\n",
       "</table>\n",
       "</div>"
      ],
      "text/plain": [
       "   lotsize  quality_LOW  quality_MEDIUM\n",
       "0    22221            0               1\n",
       "1    22912            0               1\n",
       "2    21345            0               1\n",
       "3    17342            0               1\n",
       "4    21786            0               1"
      ]
     },
     "execution_count": 58,
     "metadata": {},
     "output_type": "execute_result"
    }
   ],
   "source": [
    "list_6 = ['lotsize', 'quality']\n",
    "df6_1 = df1[list_6]\n",
    "df6 = pd.get_dummies(df6_1, columns = ['quality'], drop_first = True)\n",
    "df6[:5]"
   ]
  },
  {
   "cell_type": "code",
   "execution_count": 59,
   "metadata": {},
   "outputs": [
    {
     "data": {
      "text/html": [
       "<table class=\"simpletable\">\n",
       "<caption>OLS Regression Results</caption>\n",
       "<tr>\n",
       "  <th>Dep. Variable:</th>          <td>price</td>      <th>  R-squared:         </th> <td>   0.679</td> \n",
       "</tr>\n",
       "<tr>\n",
       "  <th>Model:</th>                   <td>OLS</td>       <th>  Adj. R-squared:    </th> <td>   0.677</td> \n",
       "</tr>\n",
       "<tr>\n",
       "  <th>Method:</th>             <td>Least Squares</td>  <th>  F-statistic:       </th> <td>   365.5</td> \n",
       "</tr>\n",
       "<tr>\n",
       "  <th>Date:</th>             <td>Wed, 25 Sep 2019</td> <th>  Prob (F-statistic):</th> <td>2.04e-127</td>\n",
       "</tr>\n",
       "<tr>\n",
       "  <th>Time:</th>                 <td>11:00:46</td>     <th>  Log-Likelihood:    </th> <td> -6621.1</td> \n",
       "</tr>\n",
       "<tr>\n",
       "  <th>No. Observations:</th>      <td>   522</td>      <th>  AIC:               </th> <td>1.325e+04</td>\n",
       "</tr>\n",
       "<tr>\n",
       "  <th>Df Residuals:</th>          <td>   518</td>      <th>  BIC:               </th> <td>1.327e+04</td>\n",
       "</tr>\n",
       "<tr>\n",
       "  <th>Df Model:</th>              <td>     3</td>      <th>                     </th>     <td> </td>    \n",
       "</tr>\n",
       "<tr>\n",
       "  <th>Covariance Type:</th>      <td>nonrobust</td>    <th>                     </th>     <td> </td>    \n",
       "</tr>\n",
       "</table>\n",
       "<table class=\"simpletable\">\n",
       "<tr>\n",
       "    <td></td>       <th>coef</th>     <th>std err</th>      <th>t</th>      <th>P>|t|</th>  <th>[0.025</th>    <th>0.975]</th>  \n",
       "</tr>\n",
       "<tr>\n",
       "  <th>const</th> <td> 4.996e+05</td> <td> 1.24e+04</td> <td>   40.377</td> <td> 0.000</td> <td> 4.75e+05</td> <td> 5.24e+05</td>\n",
       "</tr>\n",
       "<tr>\n",
       "  <th>x1</th>    <td>    1.6421</td> <td>    0.296</td> <td>    5.551</td> <td> 0.000</td> <td>    1.061</td> <td>    2.223</td>\n",
       "</tr>\n",
       "<tr>\n",
       "  <th>x2</th>    <td>-3.617e+05</td> <td> 1.14e+04</td> <td>  -31.818</td> <td> 0.000</td> <td>-3.84e+05</td> <td>-3.39e+05</td>\n",
       "</tr>\n",
       "<tr>\n",
       "  <th>x3</th>    <td>-2.666e+05</td> <td> 1.06e+04</td> <td>  -25.210</td> <td> 0.000</td> <td>-2.87e+05</td> <td>-2.46e+05</td>\n",
       "</tr>\n",
       "</table>\n",
       "<table class=\"simpletable\">\n",
       "<tr>\n",
       "  <th>Omnibus:</th>       <td>114.013</td> <th>  Durbin-Watson:     </th> <td>   0.924</td>\n",
       "</tr>\n",
       "<tr>\n",
       "  <th>Prob(Omnibus):</th> <td> 0.000</td>  <th>  Jarque-Bera (JB):  </th> <td> 285.522</td>\n",
       "</tr>\n",
       "<tr>\n",
       "  <th>Skew:</th>          <td> 1.097</td>  <th>  Prob(JB):          </th> <td>9.99e-63</td>\n",
       "</tr>\n",
       "<tr>\n",
       "  <th>Kurtosis:</th>      <td> 5.883</td>  <th>  Cond. No.          </th> <td>1.42e+05</td>\n",
       "</tr>\n",
       "</table><br/><br/>Warnings:<br/>[1] Standard Errors assume that the covariance matrix of the errors is correctly specified.<br/>[2] The condition number is large, 1.42e+05. This might indicate that there are<br/>strong multicollinearity or other numerical problems."
      ],
      "text/plain": [
       "<class 'statsmodels.iolib.summary.Summary'>\n",
       "\"\"\"\n",
       "                            OLS Regression Results                            \n",
       "==============================================================================\n",
       "Dep. Variable:                  price   R-squared:                       0.679\n",
       "Model:                            OLS   Adj. R-squared:                  0.677\n",
       "Method:                 Least Squares   F-statistic:                     365.5\n",
       "Date:                Wed, 25 Sep 2019   Prob (F-statistic):          2.04e-127\n",
       "Time:                        11:00:46   Log-Likelihood:                -6621.1\n",
       "No. Observations:                 522   AIC:                         1.325e+04\n",
       "Df Residuals:                     518   BIC:                         1.327e+04\n",
       "Df Model:                           3                                         \n",
       "Covariance Type:            nonrobust                                         \n",
       "==============================================================================\n",
       "                 coef    std err          t      P>|t|      [0.025      0.975]\n",
       "------------------------------------------------------------------------------\n",
       "const       4.996e+05   1.24e+04     40.377      0.000    4.75e+05    5.24e+05\n",
       "x1             1.6421      0.296      5.551      0.000       1.061       2.223\n",
       "x2         -3.617e+05   1.14e+04    -31.818      0.000   -3.84e+05   -3.39e+05\n",
       "x3         -2.666e+05   1.06e+04    -25.210      0.000   -2.87e+05   -2.46e+05\n",
       "==============================================================================\n",
       "Omnibus:                      114.013   Durbin-Watson:                   0.924\n",
       "Prob(Omnibus):                  0.000   Jarque-Bera (JB):              285.522\n",
       "Skew:                           1.097   Prob(JB):                     9.99e-63\n",
       "Kurtosis:                       5.883   Cond. No.                     1.42e+05\n",
       "==============================================================================\n",
       "\n",
       "Warnings:\n",
       "[1] Standard Errors assume that the covariance matrix of the errors is correctly specified.\n",
       "[2] The condition number is large, 1.42e+05. This might indicate that there are\n",
       "strong multicollinearity or other numerical problems.\n",
       "\"\"\""
      ]
     },
     "execution_count": 59,
     "metadata": {},
     "output_type": "execute_result"
    }
   ],
   "source": [
    "x6 = df6.to_numpy()\n",
    "x6 = sm.add_constant(x6)\n",
    "m6 = sm.OLS(Y,x6).fit()\n",
    "m6.summary()"
   ]
  },
  {
   "cell_type": "code",
   "execution_count": 60,
   "metadata": {},
   "outputs": [
    {
     "data": {
      "text/plain": [
       "const    499607.815886\n",
       "x1            1.642053\n",
       "x2      -361721.638336\n",
       "x3      -266554.185858\n",
       "dtype: float64"
      ]
     },
     "execution_count": 60,
     "metadata": {},
     "output_type": "execute_result"
    }
   ],
   "source": [
    "m6.params"
   ]
  },
  {
   "cell_type": "code",
   "execution_count": 61,
   "metadata": {},
   "outputs": [],
   "source": [
    "# fitted equation:\n",
    "# yhat = 499607.82 + 1.64 lotsize - 361721.64 quality_LOW - 266554.19 quality_MEDIUM"
   ]
  },
  {
   "cell_type": "markdown",
   "metadata": {},
   "source": [
    "# Question7"
   ]
  },
  {
   "cell_type": "code",
   "execution_count": 62,
   "metadata": {},
   "outputs": [
    {
     "data": {
      "text/html": [
       "<div>\n",
       "<style scoped>\n",
       "    .dataframe tbody tr th:only-of-type {\n",
       "        vertical-align: middle;\n",
       "    }\n",
       "\n",
       "    .dataframe tbody tr th {\n",
       "        vertical-align: top;\n",
       "    }\n",
       "\n",
       "    .dataframe thead th {\n",
       "        text-align: right;\n",
       "    }\n",
       "</style>\n",
       "<table border=\"1\" class=\"dataframe\">\n",
       "  <thead>\n",
       "    <tr style=\"text-align: right;\">\n",
       "      <th></th>\n",
       "      <th>mean</th>\n",
       "      <th>mean_se</th>\n",
       "      <th>mean_ci_lower</th>\n",
       "      <th>mean_ci_upper</th>\n",
       "      <th>obs_ci_lower</th>\n",
       "      <th>obs_ci_upper</th>\n",
       "    </tr>\n",
       "  </thead>\n",
       "  <tbody>\n",
       "    <tr>\n",
       "      <th>0</th>\n",
       "      <td>298735.732619</td>\n",
       "      <td>6434.186782</td>\n",
       "      <td>286095.423979</td>\n",
       "      <td>311376.04126</td>\n",
       "      <td>144292.907077</td>\n",
       "      <td>453178.558161</td>\n",
       "    </tr>\n",
       "  </tbody>\n",
       "</table>\n",
       "</div>"
      ],
      "text/plain": [
       "            mean      mean_se  mean_ci_lower  mean_ci_upper   obs_ci_lower  \\\n",
       "0  298735.732619  6434.186782  286095.423979   311376.04126  144292.907077   \n",
       "\n",
       "    obs_ci_upper  \n",
       "0  453178.558161  "
      ]
     },
     "execution_count": 62,
     "metadata": {},
     "output_type": "execute_result"
    }
   ],
   "source": [
    "list_value_7 = [1,40000, 0, 1]\n",
    "list7 = ['lotsize', 'quality_LOW', 'quality_MEDIUM']\n",
    "list7.insert(0, 'constant')\n",
    "x7 = pd.DataFrame([list_value_7], columns = list7)\n",
    "d7 = m6.get_prediction(x7)\n",
    "d7.summary_frame(alpha = 0.05)\n",
    "# The price is 298735.732619 for the prediction."
   ]
  },
  {
   "cell_type": "markdown",
   "metadata": {},
   "source": [
    "# Question8"
   ]
  },
  {
   "cell_type": "code",
   "execution_count": 63,
   "metadata": {},
   "outputs": [],
   "source": [
    "list_8 = ['area', 'beds', 'baths', 'garage', 'age', 'style', 'lotsize', 'ac', 'pool', 'quality', 'highway']"
   ]
  },
  {
   "cell_type": "code",
   "execution_count": 64,
   "metadata": {},
   "outputs": [
    {
     "data": {
      "text/plain": [
       "445"
      ]
     },
     "execution_count": 64,
     "metadata": {},
     "output_type": "execute_result"
    }
   ],
   "source": [
    "df8_1 = df1[list_8]\n",
    "df8_1 = pd.get_dummies(df8_1, columns = ['ac', 'pool', 'quality', 'highway','style'], drop_first = True)\n",
    "df8_2 = df8_1.loc[df8_1.beds.isin([2,3,4])]\n",
    "df8 = df8_2.to_numpy()\n",
    "df8 = sm.add_constant(df8)\n",
    "len(df8_2)"
   ]
  },
  {
   "cell_type": "code",
   "execution_count": 65,
   "metadata": {},
   "outputs": [
    {
     "data": {
      "text/html": [
       "<div>\n",
       "<style scoped>\n",
       "    .dataframe tbody tr th:only-of-type {\n",
       "        vertical-align: middle;\n",
       "    }\n",
       "\n",
       "    .dataframe tbody tr th {\n",
       "        vertical-align: top;\n",
       "    }\n",
       "\n",
       "    .dataframe thead th {\n",
       "        text-align: right;\n",
       "    }\n",
       "</style>\n",
       "<table border=\"1\" class=\"dataframe\">\n",
       "  <thead>\n",
       "    <tr style=\"text-align: right;\">\n",
       "      <th></th>\n",
       "      <th>price</th>\n",
       "      <th>area</th>\n",
       "      <th>beds</th>\n",
       "      <th>baths</th>\n",
       "      <th>garage</th>\n",
       "      <th>age</th>\n",
       "      <th>lotsize</th>\n",
       "      <th>ac_YES</th>\n",
       "      <th>pool_YES</th>\n",
       "      <th>quality_LOW</th>\n",
       "      <th>...</th>\n",
       "      <th>highway_YES</th>\n",
       "      <th>style_2</th>\n",
       "      <th>style_3</th>\n",
       "      <th>style_4</th>\n",
       "      <th>style_5</th>\n",
       "      <th>style_6</th>\n",
       "      <th>style_7</th>\n",
       "      <th>style_9</th>\n",
       "      <th>style_10</th>\n",
       "      <th>style_11</th>\n",
       "    </tr>\n",
       "  </thead>\n",
       "  <tbody>\n",
       "    <tr>\n",
       "      <th>0</th>\n",
       "      <td>360000</td>\n",
       "      <td>3032</td>\n",
       "      <td>4</td>\n",
       "      <td>4</td>\n",
       "      <td>2</td>\n",
       "      <td>29</td>\n",
       "      <td>22221</td>\n",
       "      <td>1</td>\n",
       "      <td>0</td>\n",
       "      <td>0</td>\n",
       "      <td>...</td>\n",
       "      <td>0</td>\n",
       "      <td>0</td>\n",
       "      <td>0</td>\n",
       "      <td>0</td>\n",
       "      <td>0</td>\n",
       "      <td>0</td>\n",
       "      <td>0</td>\n",
       "      <td>0</td>\n",
       "      <td>0</td>\n",
       "      <td>0</td>\n",
       "    </tr>\n",
       "    <tr>\n",
       "      <th>1</th>\n",
       "      <td>340000</td>\n",
       "      <td>2058</td>\n",
       "      <td>4</td>\n",
       "      <td>2</td>\n",
       "      <td>2</td>\n",
       "      <td>25</td>\n",
       "      <td>22912</td>\n",
       "      <td>1</td>\n",
       "      <td>0</td>\n",
       "      <td>0</td>\n",
       "      <td>...</td>\n",
       "      <td>0</td>\n",
       "      <td>0</td>\n",
       "      <td>0</td>\n",
       "      <td>0</td>\n",
       "      <td>0</td>\n",
       "      <td>0</td>\n",
       "      <td>0</td>\n",
       "      <td>0</td>\n",
       "      <td>0</td>\n",
       "      <td>0</td>\n",
       "    </tr>\n",
       "    <tr>\n",
       "      <th>2</th>\n",
       "      <td>250000</td>\n",
       "      <td>1780</td>\n",
       "      <td>4</td>\n",
       "      <td>3</td>\n",
       "      <td>2</td>\n",
       "      <td>21</td>\n",
       "      <td>21345</td>\n",
       "      <td>1</td>\n",
       "      <td>0</td>\n",
       "      <td>0</td>\n",
       "      <td>...</td>\n",
       "      <td>0</td>\n",
       "      <td>0</td>\n",
       "      <td>0</td>\n",
       "      <td>0</td>\n",
       "      <td>0</td>\n",
       "      <td>0</td>\n",
       "      <td>0</td>\n",
       "      <td>0</td>\n",
       "      <td>0</td>\n",
       "      <td>0</td>\n",
       "    </tr>\n",
       "    <tr>\n",
       "      <th>3</th>\n",
       "      <td>205500</td>\n",
       "      <td>1638</td>\n",
       "      <td>4</td>\n",
       "      <td>2</td>\n",
       "      <td>2</td>\n",
       "      <td>38</td>\n",
       "      <td>17342</td>\n",
       "      <td>1</td>\n",
       "      <td>0</td>\n",
       "      <td>0</td>\n",
       "      <td>...</td>\n",
       "      <td>0</td>\n",
       "      <td>0</td>\n",
       "      <td>0</td>\n",
       "      <td>0</td>\n",
       "      <td>0</td>\n",
       "      <td>0</td>\n",
       "      <td>0</td>\n",
       "      <td>0</td>\n",
       "      <td>0</td>\n",
       "      <td>0</td>\n",
       "    </tr>\n",
       "    <tr>\n",
       "      <th>4</th>\n",
       "      <td>275500</td>\n",
       "      <td>2196</td>\n",
       "      <td>4</td>\n",
       "      <td>3</td>\n",
       "      <td>2</td>\n",
       "      <td>33</td>\n",
       "      <td>21786</td>\n",
       "      <td>1</td>\n",
       "      <td>0</td>\n",
       "      <td>0</td>\n",
       "      <td>...</td>\n",
       "      <td>0</td>\n",
       "      <td>0</td>\n",
       "      <td>0</td>\n",
       "      <td>0</td>\n",
       "      <td>0</td>\n",
       "      <td>0</td>\n",
       "      <td>1</td>\n",
       "      <td>0</td>\n",
       "      <td>0</td>\n",
       "      <td>0</td>\n",
       "    </tr>\n",
       "  </tbody>\n",
       "</table>\n",
       "<p>5 rows × 21 columns</p>\n",
       "</div>"
      ],
      "text/plain": [
       "    price  area  beds  baths  garage  age  lotsize  ac_YES  pool_YES  \\\n",
       "0  360000  3032     4      4       2   29    22221       1         0   \n",
       "1  340000  2058     4      2       2   25    22912       1         0   \n",
       "2  250000  1780     4      3       2   21    21345       1         0   \n",
       "3  205500  1638     4      2       2   38    17342       1         0   \n",
       "4  275500  2196     4      3       2   33    21786       1         0   \n",
       "\n",
       "   quality_LOW  ...  highway_YES  style_2  style_3  style_4  style_5  style_6  \\\n",
       "0            0  ...            0        0        0        0        0        0   \n",
       "1            0  ...            0        0        0        0        0        0   \n",
       "2            0  ...            0        0        0        0        0        0   \n",
       "3            0  ...            0        0        0        0        0        0   \n",
       "4            0  ...            0        0        0        0        0        0   \n",
       "\n",
       "   style_7  style_9  style_10  style_11  \n",
       "0        0        0         0         0  \n",
       "1        0        0         0         0  \n",
       "2        0        0         0         0  \n",
       "3        0        0         0         0  \n",
       "4        1        0         0         0  \n",
       "\n",
       "[5 rows x 21 columns]"
      ]
     },
     "execution_count": 65,
     "metadata": {},
     "output_type": "execute_result"
    }
   ],
   "source": [
    "list_9 = ['price','area', 'beds', 'baths', 'garage', 'age', 'style', 'lotsize', 'ac', 'pool', 'quality', 'highway']\n",
    "df8_8 = df1[list_9]\n",
    "df8_8 = pd.get_dummies(df8_8, columns = ['ac', 'pool', 'quality', 'highway','style'], drop_first = True)\n",
    "new_8 = df8_8.loc[df8_8.beds.isin([2,3,4])]\n",
    "Y1 = new_8['price']\n",
    "new_8[:5]"
   ]
  },
  {
   "cell_type": "code",
   "execution_count": 66,
   "metadata": {},
   "outputs": [
    {
     "name": "stderr",
     "output_type": "stream",
     "text": [
      "C:\\Users\\siyum\\Anaconda3\\lib\\site-packages\\statsmodels\\regression\\linear_model.py:1755: RuntimeWarning: divide by zero encountered in double_scalars\n",
      "  return np.sqrt(eigvals[0]/eigvals[-1])\n",
      "C:\\Users\\siyum\\Anaconda3\\lib\\site-packages\\statsmodels\\base\\model.py:1294: RuntimeWarning: invalid value encountered in true_divide\n",
      "  return self.params / self.bse\n",
      "C:\\Users\\siyum\\Anaconda3\\lib\\site-packages\\scipy\\stats\\_distn_infrastructure.py:877: RuntimeWarning: invalid value encountered in greater\n",
      "  return (self.a < x) & (x < self.b)\n",
      "C:\\Users\\siyum\\Anaconda3\\lib\\site-packages\\scipy\\stats\\_distn_infrastructure.py:877: RuntimeWarning: invalid value encountered in less\n",
      "  return (self.a < x) & (x < self.b)\n",
      "C:\\Users\\siyum\\Anaconda3\\lib\\site-packages\\scipy\\stats\\_distn_infrastructure.py:1831: RuntimeWarning: invalid value encountered in less_equal\n",
      "  cond2 = cond0 & (x <= self.a)\n"
     ]
    },
    {
     "data": {
      "text/html": [
       "<table class=\"simpletable\">\n",
       "<caption>OLS Regression Results</caption>\n",
       "<tr>\n",
       "  <th>Dep. Variable:</th>          <td>price</td>      <th>  R-squared:         </th> <td>   0.852</td> \n",
       "</tr>\n",
       "<tr>\n",
       "  <th>Model:</th>                   <td>OLS</td>       <th>  Adj. R-squared:    </th> <td>   0.845</td> \n",
       "</tr>\n",
       "<tr>\n",
       "  <th>Method:</th>             <td>Least Squares</td>  <th>  F-statistic:       </th> <td>   135.9</td> \n",
       "</tr>\n",
       "<tr>\n",
       "  <th>Date:</th>             <td>Wed, 25 Sep 2019</td> <th>  Prob (F-statistic):</th> <td>1.08e-163</td>\n",
       "</tr>\n",
       "<tr>\n",
       "  <th>Time:</th>                 <td>11:00:55</td>     <th>  Log-Likelihood:    </th> <td> -5451.8</td> \n",
       "</tr>\n",
       "<tr>\n",
       "  <th>No. Observations:</th>      <td>   445</td>      <th>  AIC:               </th> <td>1.094e+04</td>\n",
       "</tr>\n",
       "<tr>\n",
       "  <th>Df Residuals:</th>          <td>   426</td>      <th>  BIC:               </th> <td>1.102e+04</td>\n",
       "</tr>\n",
       "<tr>\n",
       "  <th>Df Model:</th>              <td>    18</td>      <th>                     </th>     <td> </td>    \n",
       "</tr>\n",
       "<tr>\n",
       "  <th>Covariance Type:</th>      <td>nonrobust</td>    <th>                     </th>     <td> </td>    \n",
       "</tr>\n",
       "</table>\n",
       "<table class=\"simpletable\">\n",
       "<tr>\n",
       "    <td></td>       <th>coef</th>     <th>std err</th>      <th>t</th>      <th>P>|t|</th>  <th>[0.025</th>    <th>0.975]</th>  \n",
       "</tr>\n",
       "<tr>\n",
       "  <th>const</th> <td> 1.296e+05</td> <td> 2.67e+04</td> <td>    4.848</td> <td> 0.000</td> <td> 7.71e+04</td> <td> 1.82e+05</td>\n",
       "</tr>\n",
       "<tr>\n",
       "  <th>x1</th>    <td>  117.2176</td> <td>    7.739</td> <td>   15.146</td> <td> 0.000</td> <td>  102.006</td> <td>  132.429</td>\n",
       "</tr>\n",
       "<tr>\n",
       "  <th>x2</th>    <td>-2222.9820</td> <td> 4148.594</td> <td>   -0.536</td> <td> 0.592</td> <td>-1.04e+04</td> <td> 5931.279</td>\n",
       "</tr>\n",
       "<tr>\n",
       "  <th>x3</th>    <td> 9246.5631</td> <td> 4285.513</td> <td>    2.158</td> <td> 0.032</td> <td>  823.180</td> <td> 1.77e+04</td>\n",
       "</tr>\n",
       "<tr>\n",
       "  <th>x4</th>    <td> 7423.7368</td> <td> 4914.563</td> <td>    1.511</td> <td> 0.132</td> <td>-2236.074</td> <td> 1.71e+04</td>\n",
       "</tr>\n",
       "<tr>\n",
       "  <th>x5</th>    <td>-1300.6190</td> <td>  199.782</td> <td>   -6.510</td> <td> 0.000</td> <td>-1693.300</td> <td> -907.938</td>\n",
       "</tr>\n",
       "<tr>\n",
       "  <th>x6</th>    <td>    1.3283</td> <td>    0.238</td> <td>    5.584</td> <td> 0.000</td> <td>    0.861</td> <td>    1.796</td>\n",
       "</tr>\n",
       "<tr>\n",
       "  <th>x7</th>    <td>-1075.0761</td> <td> 7501.411</td> <td>   -0.143</td> <td> 0.886</td> <td>-1.58e+04</td> <td> 1.37e+04</td>\n",
       "</tr>\n",
       "<tr>\n",
       "  <th>x8</th>    <td> 2.163e+04</td> <td> 1.06e+04</td> <td>    2.042</td> <td> 0.042</td> <td>  813.263</td> <td> 4.25e+04</td>\n",
       "</tr>\n",
       "<tr>\n",
       "  <th>x9</th>    <td>-1.368e+05</td> <td> 1.45e+04</td> <td>   -9.433</td> <td> 0.000</td> <td>-1.65e+05</td> <td>-1.08e+05</td>\n",
       "</tr>\n",
       "<tr>\n",
       "  <th>x10</th>   <td>-1.363e+05</td> <td> 1.08e+04</td> <td>  -12.640</td> <td> 0.000</td> <td>-1.58e+05</td> <td>-1.15e+05</td>\n",
       "</tr>\n",
       "<tr>\n",
       "  <th>x11</th>   <td> -3.18e+04</td> <td> 1.69e+04</td> <td>   -1.884</td> <td> 0.060</td> <td> -6.5e+04</td> <td> 1380.295</td>\n",
       "</tr>\n",
       "<tr>\n",
       "  <th>x12</th>   <td>-2.006e+04</td> <td> 8638.441</td> <td>   -2.322</td> <td> 0.021</td> <td> -3.7e+04</td> <td>-3080.425</td>\n",
       "</tr>\n",
       "<tr>\n",
       "  <th>x13</th>   <td>-1.151e+04</td> <td> 8251.632</td> <td>   -1.395</td> <td> 0.164</td> <td>-2.77e+04</td> <td> 4707.107</td>\n",
       "</tr>\n",
       "<tr>\n",
       "  <th>x14</th>   <td>  2.31e+04</td> <td> 1.72e+04</td> <td>    1.346</td> <td> 0.179</td> <td>-1.06e+04</td> <td> 5.68e+04</td>\n",
       "</tr>\n",
       "<tr>\n",
       "  <th>x15</th>   <td>-7407.6304</td> <td> 1.55e+04</td> <td>   -0.479</td> <td> 0.632</td> <td>-3.78e+04</td> <td>  2.3e+04</td>\n",
       "</tr>\n",
       "<tr>\n",
       "  <th>x16</th>   <td> -3.06e+04</td> <td> 1.51e+04</td> <td>   -2.029</td> <td> 0.043</td> <td>-6.02e+04</td> <td> -951.905</td>\n",
       "</tr>\n",
       "<tr>\n",
       "  <th>x17</th>   <td>-4.664e+04</td> <td> 8514.836</td> <td>   -5.477</td> <td> 0.000</td> <td>-6.34e+04</td> <td>-2.99e+04</td>\n",
       "</tr>\n",
       "<tr>\n",
       "  <th>x18</th>   <td>-9.094e+04</td> <td> 5.26e+04</td> <td>   -1.728</td> <td> 0.085</td> <td>-1.94e+05</td> <td> 1.25e+04</td>\n",
       "</tr>\n",
       "<tr>\n",
       "  <th>x19</th>   <td>         0</td> <td>        0</td> <td>      nan</td> <td>   nan</td> <td>        0</td> <td>        0</td>\n",
       "</tr>\n",
       "<tr>\n",
       "  <th>x20</th>   <td>         0</td> <td>        0</td> <td>      nan</td> <td>   nan</td> <td>        0</td> <td>        0</td>\n",
       "</tr>\n",
       "</table>\n",
       "<table class=\"simpletable\">\n",
       "<tr>\n",
       "  <th>Omnibus:</th>       <td>58.445</td> <th>  Durbin-Watson:     </th> <td>   1.344</td>\n",
       "</tr>\n",
       "<tr>\n",
       "  <th>Prob(Omnibus):</th> <td> 0.000</td> <th>  Jarque-Bera (JB):  </th> <td> 269.978</td>\n",
       "</tr>\n",
       "<tr>\n",
       "  <th>Skew:</th>          <td> 0.449</td> <th>  Prob(JB):          </th> <td>2.37e-59</td>\n",
       "</tr>\n",
       "<tr>\n",
       "  <th>Kurtosis:</th>      <td> 6.709</td> <th>  Cond. No.          </th> <td>     inf</td>\n",
       "</tr>\n",
       "</table><br/><br/>Warnings:<br/>[1] Standard Errors assume that the covariance matrix of the errors is correctly specified.<br/>[2] The smallest eigenvalue is      0. This might indicate that there are<br/>strong multicollinearity problems or that the design matrix is singular."
      ],
      "text/plain": [
       "<class 'statsmodels.iolib.summary.Summary'>\n",
       "\"\"\"\n",
       "                            OLS Regression Results                            \n",
       "==============================================================================\n",
       "Dep. Variable:                  price   R-squared:                       0.852\n",
       "Model:                            OLS   Adj. R-squared:                  0.845\n",
       "Method:                 Least Squares   F-statistic:                     135.9\n",
       "Date:                Wed, 25 Sep 2019   Prob (F-statistic):          1.08e-163\n",
       "Time:                        11:00:55   Log-Likelihood:                -5451.8\n",
       "No. Observations:                 445   AIC:                         1.094e+04\n",
       "Df Residuals:                     426   BIC:                         1.102e+04\n",
       "Df Model:                          18                                         \n",
       "Covariance Type:            nonrobust                                         \n",
       "==============================================================================\n",
       "                 coef    std err          t      P>|t|      [0.025      0.975]\n",
       "------------------------------------------------------------------------------\n",
       "const       1.296e+05   2.67e+04      4.848      0.000    7.71e+04    1.82e+05\n",
       "x1           117.2176      7.739     15.146      0.000     102.006     132.429\n",
       "x2         -2222.9820   4148.594     -0.536      0.592   -1.04e+04    5931.279\n",
       "x3          9246.5631   4285.513      2.158      0.032     823.180    1.77e+04\n",
       "x4          7423.7368   4914.563      1.511      0.132   -2236.074    1.71e+04\n",
       "x5         -1300.6190    199.782     -6.510      0.000   -1693.300    -907.938\n",
       "x6             1.3283      0.238      5.584      0.000       0.861       1.796\n",
       "x7         -1075.0761   7501.411     -0.143      0.886   -1.58e+04    1.37e+04\n",
       "x8          2.163e+04   1.06e+04      2.042      0.042     813.263    4.25e+04\n",
       "x9         -1.368e+05   1.45e+04     -9.433      0.000   -1.65e+05   -1.08e+05\n",
       "x10        -1.363e+05   1.08e+04    -12.640      0.000   -1.58e+05   -1.15e+05\n",
       "x11         -3.18e+04   1.69e+04     -1.884      0.060    -6.5e+04    1380.295\n",
       "x12        -2.006e+04   8638.441     -2.322      0.021    -3.7e+04   -3080.425\n",
       "x13        -1.151e+04   8251.632     -1.395      0.164   -2.77e+04    4707.107\n",
       "x14          2.31e+04   1.72e+04      1.346      0.179   -1.06e+04    5.68e+04\n",
       "x15        -7407.6304   1.55e+04     -0.479      0.632   -3.78e+04     2.3e+04\n",
       "x16         -3.06e+04   1.51e+04     -2.029      0.043   -6.02e+04    -951.905\n",
       "x17        -4.664e+04   8514.836     -5.477      0.000   -6.34e+04   -2.99e+04\n",
       "x18        -9.094e+04   5.26e+04     -1.728      0.085   -1.94e+05    1.25e+04\n",
       "x19                 0          0        nan        nan           0           0\n",
       "x20                 0          0        nan        nan           0           0\n",
       "==============================================================================\n",
       "Omnibus:                       58.445   Durbin-Watson:                   1.344\n",
       "Prob(Omnibus):                  0.000   Jarque-Bera (JB):              269.978\n",
       "Skew:                           0.449   Prob(JB):                     2.37e-59\n",
       "Kurtosis:                       6.709   Cond. No.                          inf\n",
       "==============================================================================\n",
       "\n",
       "Warnings:\n",
       "[1] Standard Errors assume that the covariance matrix of the errors is correctly specified.\n",
       "[2] The smallest eigenvalue is      0. This might indicate that there are\n",
       "strong multicollinearity problems or that the design matrix is singular.\n",
       "\"\"\""
      ]
     },
     "execution_count": 66,
     "metadata": {},
     "output_type": "execute_result"
    }
   ],
   "source": [
    "m8 = sm.OLS(Y1, df8).fit()\n",
    "m8.summary()"
   ]
  },
  {
   "cell_type": "code",
   "execution_count": 67,
   "metadata": {},
   "outputs": [
    {
     "data": {
      "text/plain": [
       "const    129624.625814\n",
       "x1          117.217570\n",
       "x2        -2222.982001\n",
       "x3         9246.563083\n",
       "x4         7423.736755\n",
       "x5        -1300.618978\n",
       "x6            1.328298\n",
       "x7        -1075.076122\n",
       "x8        21631.695378\n",
       "x9      -136786.651074\n",
       "x10     -136349.569750\n",
       "x11      -31800.514325\n",
       "x12      -20059.697192\n",
       "x13      -11511.873749\n",
       "x14       23097.272898\n",
       "x15       -7407.630425\n",
       "x16      -30595.698404\n",
       "x17      -46636.802875\n",
       "x18      -90937.907311\n",
       "x19           0.000000\n",
       "x20           0.000000\n",
       "dtype: float64"
      ]
     },
     "execution_count": 67,
     "metadata": {},
     "output_type": "execute_result"
    }
   ],
   "source": [
    "m8.params"
   ]
  },
  {
   "cell_type": "code",
   "execution_count": 68,
   "metadata": {},
   "outputs": [],
   "source": [
    "data_8 = {\n",
    "            'area':[3150], \n",
    "            'beds':[2], \n",
    "            'baths':[3], \n",
    "            'garage':[2],\n",
    "            'age':[5],\n",
    "            'lotsize':[26250],\n",
    "            'ac_YES':[1],\n",
    "            'pool_YES':[1],\n",
    "            'quality_LOW':[0],\n",
    "            'quality_MEDIUM':[0],\n",
    "            'highway_YES':[0],\n",
    "            'style_2':[0],\n",
    "            'style_3':[0],\n",
    "            'style_4':[0],\n",
    "            'style_5':[0],\n",
    "            'style_6':[0],\n",
    "            'style_7':[0],\n",
    "            'style_9':[0],\n",
    "            'style_10':[0],\n",
    "            'style_11':[0]}"
   ]
  },
  {
   "cell_type": "code",
   "execution_count": 69,
   "metadata": {},
   "outputs": [
    {
     "data": {
      "text/html": [
       "<div>\n",
       "<style scoped>\n",
       "    .dataframe tbody tr th:only-of-type {\n",
       "        vertical-align: middle;\n",
       "    }\n",
       "\n",
       "    .dataframe tbody tr th {\n",
       "        vertical-align: top;\n",
       "    }\n",
       "\n",
       "    .dataframe thead th {\n",
       "        text-align: right;\n",
       "    }\n",
       "</style>\n",
       "<table border=\"1\" class=\"dataframe\">\n",
       "  <thead>\n",
       "    <tr style=\"text-align: right;\">\n",
       "      <th></th>\n",
       "      <th>mean</th>\n",
       "      <th>mean_se</th>\n",
       "      <th>mean_ci_lower</th>\n",
       "      <th>mean_ci_upper</th>\n",
       "      <th>obs_ci_lower</th>\n",
       "      <th>obs_ci_upper</th>\n",
       "    </tr>\n",
       "  </thead>\n",
       "  <tbody>\n",
       "    <tr>\n",
       "      <th>0</th>\n",
       "      <td>585922.526796</td>\n",
       "      <td>15323.494616</td>\n",
       "      <td>555803.458271</td>\n",
       "      <td>616041.595321</td>\n",
       "      <td>479849.693761</td>\n",
       "      <td>691995.359832</td>\n",
       "    </tr>\n",
       "  </tbody>\n",
       "</table>\n",
       "</div>"
      ],
      "text/plain": [
       "            mean       mean_se  mean_ci_lower  mean_ci_upper   obs_ci_lower  \\\n",
       "0  585922.526796  15323.494616  555803.458271  616041.595321  479849.693761   \n",
       "\n",
       "    obs_ci_upper  \n",
       "0  691995.359832  "
      ]
     },
     "execution_count": 69,
     "metadata": {},
     "output_type": "execute_result"
    }
   ],
   "source": [
    "data_8_new = pd.DataFrame(data_8).to_numpy()\n",
    "data_8_new = sm.add_constant(data_8_new, has_constant = 'add')\n",
    "prediction_8 = m8.get_prediction(data_8_new)\n",
    "prediction_8.summary_frame(alpha = 0.05)\n",
    "\n",
    "#The 95% prediction interval for the price is (479849.693761, 691995.359832)"
   ]
  },
  {
   "cell_type": "code",
   "execution_count": null,
   "metadata": {},
   "outputs": [],
   "source": []
  }
 ],
 "metadata": {
  "kernelspec": {
   "display_name": "Python 3",
   "language": "python",
   "name": "python3"
  },
  "language_info": {
   "codemirror_mode": {
    "name": "ipython",
    "version": 3
   },
   "file_extension": ".py",
   "mimetype": "text/x-python",
   "name": "python",
   "nbconvert_exporter": "python",
   "pygments_lexer": "ipython3",
   "version": "3.7.3"
  }
 },
 "nbformat": 4,
 "nbformat_minor": 2
}
