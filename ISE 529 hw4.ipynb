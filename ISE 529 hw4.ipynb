{
 "cells": [
  {
   "cell_type": "markdown",
   "metadata": {},
   "source": [
    "# Siyu Mao\n",
    "# ISE 529 hw4"
   ]
  },
  {
   "cell_type": "code",
   "execution_count": 1,
   "metadata": {},
   "outputs": [],
   "source": [
    "import pandas as pd\n",
    "import numpy as np"
   ]
  },
  {
   "cell_type": "code",
   "execution_count": 2,
   "metadata": {},
   "outputs": [],
   "source": [
    "import matplotlib.pyplot as plt"
   ]
  },
  {
   "cell_type": "code",
   "execution_count": 3,
   "metadata": {},
   "outputs": [],
   "source": [
    "from sklearn.model_selection import KFold, cross_val_score\n",
    "from sklearn.model_selection import train_test_split\n",
    "from sklearn.tree import DecisionTreeClassifier\n",
    "from sklearn.metrics import confusion_matrix, mean_squared_error\n",
    "from sklearn.ensemble import BaggingClassifier\n",
    "from sklearn.ensemble import RandomForestClassifier\n",
    "from sklearn.ensemble import GradientBoostingClassifier\n",
    "from sklearn.ensemble import RandomForestRegressor\n",
    "from sklearn.ensemble import GradientBoostingRegressor\n",
    "from sklearn import linear_model\n",
    "from sklearn.linear_model import Ridge, Lasso, RidgeCV, LassoCV\n",
    "from sklearn.linear_model import LinearRegression\n",
    "from sklearn.neighbors import KNeighborsClassifier\n",
    "from sklearn.linear_model import LogisticRegression\n",
    "from sklearn.model_selection import KFold\n",
    "from sklearn.model_selection import cross_val_score\n",
    "from sklearn.preprocessing import MinMaxScaler"
   ]
  },
  {
   "cell_type": "markdown",
   "metadata": {},
   "source": [
    "# Question1"
   ]
  },
  {
   "cell_type": "code",
   "execution_count": 95,
   "metadata": {},
   "outputs": [],
   "source": [
    "hitters = pd.read_csv('Hitters.csv')"
   ]
  },
  {
   "cell_type": "code",
   "execution_count": 96,
   "metadata": {},
   "outputs": [
    {
     "data": {
      "text/plain": [
       "322"
      ]
     },
     "execution_count": 96,
     "metadata": {},
     "output_type": "execute_result"
    }
   ],
   "source": [
    "len(hitters)"
   ]
  },
  {
   "cell_type": "code",
   "execution_count": 97,
   "metadata": {},
   "outputs": [
    {
     "data": {
      "text/plain": [
       "59"
      ]
     },
     "execution_count": 97,
     "metadata": {},
     "output_type": "execute_result"
    }
   ],
   "source": [
    "len(hitters[hitters['Salary'].isnull() == True])"
   ]
  },
  {
   "cell_type": "code",
   "execution_count": 98,
   "metadata": {},
   "outputs": [
    {
     "data": {
      "text/plain": [
       "263"
      ]
     },
     "execution_count": 98,
     "metadata": {},
     "output_type": "execute_result"
    }
   ],
   "source": [
    "df = hitters[hitters['Salary'].isnull() == False]\n",
    "len(df)"
   ]
  },
  {
   "cell_type": "code",
   "execution_count": 99,
   "metadata": {},
   "outputs": [
    {
     "data": {
      "text/html": [
       "<div>\n",
       "<style scoped>\n",
       "    .dataframe tbody tr th:only-of-type {\n",
       "        vertical-align: middle;\n",
       "    }\n",
       "\n",
       "    .dataframe tbody tr th {\n",
       "        vertical-align: top;\n",
       "    }\n",
       "\n",
       "    .dataframe thead th {\n",
       "        text-align: right;\n",
       "    }\n",
       "</style>\n",
       "<table border=\"1\" class=\"dataframe\">\n",
       "  <thead>\n",
       "    <tr style=\"text-align: right;\">\n",
       "      <th></th>\n",
       "      <th>AtBat</th>\n",
       "      <th>Hits</th>\n",
       "      <th>HmRun</th>\n",
       "      <th>Runs</th>\n",
       "      <th>RBI</th>\n",
       "      <th>Walks</th>\n",
       "      <th>Years</th>\n",
       "      <th>CAtBat</th>\n",
       "      <th>CHits</th>\n",
       "      <th>CHmRun</th>\n",
       "      <th>CRuns</th>\n",
       "      <th>CRBI</th>\n",
       "      <th>CWalks</th>\n",
       "      <th>League</th>\n",
       "      <th>Division</th>\n",
       "      <th>PutOuts</th>\n",
       "      <th>Assists</th>\n",
       "      <th>Errors</th>\n",
       "      <th>Salary</th>\n",
       "      <th>NewLeague</th>\n",
       "    </tr>\n",
       "  </thead>\n",
       "  <tbody>\n",
       "    <tr>\n",
       "      <th>1</th>\n",
       "      <td>315</td>\n",
       "      <td>81</td>\n",
       "      <td>7</td>\n",
       "      <td>24</td>\n",
       "      <td>38</td>\n",
       "      <td>39</td>\n",
       "      <td>14</td>\n",
       "      <td>3449</td>\n",
       "      <td>835</td>\n",
       "      <td>69</td>\n",
       "      <td>321</td>\n",
       "      <td>414</td>\n",
       "      <td>375</td>\n",
       "      <td>N</td>\n",
       "      <td>W</td>\n",
       "      <td>632</td>\n",
       "      <td>43</td>\n",
       "      <td>10</td>\n",
       "      <td>475.0</td>\n",
       "      <td>N</td>\n",
       "    </tr>\n",
       "    <tr>\n",
       "      <th>2</th>\n",
       "      <td>479</td>\n",
       "      <td>130</td>\n",
       "      <td>18</td>\n",
       "      <td>66</td>\n",
       "      <td>72</td>\n",
       "      <td>76</td>\n",
       "      <td>3</td>\n",
       "      <td>1624</td>\n",
       "      <td>457</td>\n",
       "      <td>63</td>\n",
       "      <td>224</td>\n",
       "      <td>266</td>\n",
       "      <td>263</td>\n",
       "      <td>A</td>\n",
       "      <td>W</td>\n",
       "      <td>880</td>\n",
       "      <td>82</td>\n",
       "      <td>14</td>\n",
       "      <td>480.0</td>\n",
       "      <td>A</td>\n",
       "    </tr>\n",
       "    <tr>\n",
       "      <th>3</th>\n",
       "      <td>496</td>\n",
       "      <td>141</td>\n",
       "      <td>20</td>\n",
       "      <td>65</td>\n",
       "      <td>78</td>\n",
       "      <td>37</td>\n",
       "      <td>11</td>\n",
       "      <td>5628</td>\n",
       "      <td>1575</td>\n",
       "      <td>225</td>\n",
       "      <td>828</td>\n",
       "      <td>838</td>\n",
       "      <td>354</td>\n",
       "      <td>N</td>\n",
       "      <td>E</td>\n",
       "      <td>200</td>\n",
       "      <td>11</td>\n",
       "      <td>3</td>\n",
       "      <td>500.0</td>\n",
       "      <td>N</td>\n",
       "    </tr>\n",
       "    <tr>\n",
       "      <th>4</th>\n",
       "      <td>321</td>\n",
       "      <td>87</td>\n",
       "      <td>10</td>\n",
       "      <td>39</td>\n",
       "      <td>42</td>\n",
       "      <td>30</td>\n",
       "      <td>2</td>\n",
       "      <td>396</td>\n",
       "      <td>101</td>\n",
       "      <td>12</td>\n",
       "      <td>48</td>\n",
       "      <td>46</td>\n",
       "      <td>33</td>\n",
       "      <td>N</td>\n",
       "      <td>E</td>\n",
       "      <td>805</td>\n",
       "      <td>40</td>\n",
       "      <td>4</td>\n",
       "      <td>91.5</td>\n",
       "      <td>N</td>\n",
       "    </tr>\n",
       "    <tr>\n",
       "      <th>5</th>\n",
       "      <td>594</td>\n",
       "      <td>169</td>\n",
       "      <td>4</td>\n",
       "      <td>74</td>\n",
       "      <td>51</td>\n",
       "      <td>35</td>\n",
       "      <td>11</td>\n",
       "      <td>4408</td>\n",
       "      <td>1133</td>\n",
       "      <td>19</td>\n",
       "      <td>501</td>\n",
       "      <td>336</td>\n",
       "      <td>194</td>\n",
       "      <td>A</td>\n",
       "      <td>W</td>\n",
       "      <td>282</td>\n",
       "      <td>421</td>\n",
       "      <td>25</td>\n",
       "      <td>750.0</td>\n",
       "      <td>A</td>\n",
       "    </tr>\n",
       "  </tbody>\n",
       "</table>\n",
       "</div>"
      ],
      "text/plain": [
       "   AtBat  Hits  HmRun  Runs  RBI  Walks  Years  CAtBat  CHits  CHmRun  CRuns  \\\n",
       "1    315    81      7    24   38     39     14    3449    835      69    321   \n",
       "2    479   130     18    66   72     76      3    1624    457      63    224   \n",
       "3    496   141     20    65   78     37     11    5628   1575     225    828   \n",
       "4    321    87     10    39   42     30      2     396    101      12     48   \n",
       "5    594   169      4    74   51     35     11    4408   1133      19    501   \n",
       "\n",
       "   CRBI  CWalks League Division  PutOuts  Assists  Errors  Salary NewLeague  \n",
       "1   414     375      N        W      632       43      10   475.0         N  \n",
       "2   266     263      A        W      880       82      14   480.0         A  \n",
       "3   838     354      N        E      200       11       3   500.0         N  \n",
       "4    46      33      N        E      805       40       4    91.5         N  \n",
       "5   336     194      A        W      282      421      25   750.0         A  "
      ]
     },
     "execution_count": 99,
     "metadata": {},
     "output_type": "execute_result"
    }
   ],
   "source": [
    "df[:5]"
   ]
  },
  {
   "cell_type": "code",
   "execution_count": 100,
   "metadata": {},
   "outputs": [],
   "source": [
    "X = df.drop(['Salary'], axis = 1)\n",
    "X[['League','Division','NewLeague']] = pd.get_dummies(X[['League','Division','NewLeague']],drop_first=True)\n",
    "y = df.Salary"
   ]
  },
  {
   "cell_type": "code",
   "execution_count": 101,
   "metadata": {},
   "outputs": [],
   "source": [
    "# a)"
   ]
  },
  {
   "cell_type": "code",
   "execution_count": 102,
   "metadata": {},
   "outputs": [],
   "source": [
    "X_train,X_test,y_train,y_test = train_test_split(X,y,train_size=0.5,\n",
    "                                                test_size = 0.50,random_state=0)"
   ]
  },
  {
   "cell_type": "code",
   "execution_count": 103,
   "metadata": {},
   "outputs": [
    {
     "data": {
      "text/plain": [
       "RandomForestRegressor(bootstrap=True, criterion='mse', max_depth=None,\n",
       "                      max_features=10, max_leaf_nodes=None,\n",
       "                      min_impurity_decrease=0.0, min_impurity_split=None,\n",
       "                      min_samples_leaf=1, min_samples_split=2,\n",
       "                      min_weight_fraction_leaf=0.0, n_estimators=100,\n",
       "                      n_jobs=None, oob_score=False, random_state=1, verbose=0,\n",
       "                      warm_start=False)"
      ]
     },
     "execution_count": 103,
     "metadata": {},
     "output_type": "execute_result"
    }
   ],
   "source": [
    "bagged = RandomForestRegressor(max_features=10, n_estimators=100, random_state=1)\n",
    "bagged.fit(X_train, y_train)"
   ]
  },
  {
   "cell_type": "code",
   "execution_count": 104,
   "metadata": {},
   "outputs": [],
   "source": [
    "pred = bagged.predict(X_test)"
   ]
  },
  {
   "cell_type": "code",
   "execution_count": 105,
   "metadata": {},
   "outputs": [
    {
     "data": {
      "text/plain": [
       "90143.64631666582"
      ]
     },
     "execution_count": 105,
     "metadata": {},
     "output_type": "execute_result"
    }
   ],
   "source": [
    "mean_squared_error(y_test, pred)"
   ]
  },
  {
   "cell_type": "code",
   "execution_count": 106,
   "metadata": {},
   "outputs": [],
   "source": [
    "# The MSE value is 90143.64631666582."
   ]
  },
  {
   "cell_type": "code",
   "execution_count": 107,
   "metadata": {},
   "outputs": [
    {
     "data": {
      "text/html": [
       "<div>\n",
       "<style scoped>\n",
       "    .dataframe tbody tr th:only-of-type {\n",
       "        vertical-align: middle;\n",
       "    }\n",
       "\n",
       "    .dataframe tbody tr th {\n",
       "        vertical-align: top;\n",
       "    }\n",
       "\n",
       "    .dataframe thead th {\n",
       "        text-align: right;\n",
       "    }\n",
       "</style>\n",
       "<table border=\"1\" class=\"dataframe\">\n",
       "  <thead>\n",
       "    <tr style=\"text-align: right;\">\n",
       "      <th></th>\n",
       "      <th>Importance</th>\n",
       "    </tr>\n",
       "  </thead>\n",
       "  <tbody>\n",
       "    <tr>\n",
       "      <th>AtBat</th>\n",
       "      <td>6.063471</td>\n",
       "    </tr>\n",
       "    <tr>\n",
       "      <th>Hits</th>\n",
       "      <td>4.825391</td>\n",
       "    </tr>\n",
       "    <tr>\n",
       "      <th>HmRun</th>\n",
       "      <td>2.515385</td>\n",
       "    </tr>\n",
       "    <tr>\n",
       "      <th>Runs</th>\n",
       "      <td>5.490423</td>\n",
       "    </tr>\n",
       "    <tr>\n",
       "      <th>RBI</th>\n",
       "      <td>4.479702</td>\n",
       "    </tr>\n",
       "    <tr>\n",
       "      <th>Walks</th>\n",
       "      <td>10.042096</td>\n",
       "    </tr>\n",
       "    <tr>\n",
       "      <th>Years</th>\n",
       "      <td>1.099970</td>\n",
       "    </tr>\n",
       "    <tr>\n",
       "      <th>CAtBat</th>\n",
       "      <td>7.046038</td>\n",
       "    </tr>\n",
       "    <tr>\n",
       "      <th>CHits</th>\n",
       "      <td>14.085526</td>\n",
       "    </tr>\n",
       "    <tr>\n",
       "      <th>CHmRun</th>\n",
       "      <td>2.306548</td>\n",
       "    </tr>\n",
       "    <tr>\n",
       "      <th>CRuns</th>\n",
       "      <td>10.798962</td>\n",
       "    </tr>\n",
       "    <tr>\n",
       "      <th>CRBI</th>\n",
       "      <td>19.977207</td>\n",
       "    </tr>\n",
       "    <tr>\n",
       "      <th>CWalks</th>\n",
       "      <td>5.783127</td>\n",
       "    </tr>\n",
       "    <tr>\n",
       "      <th>League</th>\n",
       "      <td>0.182116</td>\n",
       "    </tr>\n",
       "    <tr>\n",
       "      <th>Division</th>\n",
       "      <td>0.114808</td>\n",
       "    </tr>\n",
       "    <tr>\n",
       "      <th>PutOuts</th>\n",
       "      <td>1.831944</td>\n",
       "    </tr>\n",
       "    <tr>\n",
       "      <th>Assists</th>\n",
       "      <td>1.970422</td>\n",
       "    </tr>\n",
       "    <tr>\n",
       "      <th>Errors</th>\n",
       "      <td>1.171430</td>\n",
       "    </tr>\n",
       "    <tr>\n",
       "      <th>NewLeague</th>\n",
       "      <td>0.215434</td>\n",
       "    </tr>\n",
       "  </tbody>\n",
       "</table>\n",
       "</div>"
      ],
      "text/plain": [
       "           Importance\n",
       "AtBat        6.063471\n",
       "Hits         4.825391\n",
       "HmRun        2.515385\n",
       "Runs         5.490423\n",
       "RBI          4.479702\n",
       "Walks       10.042096\n",
       "Years        1.099970\n",
       "CAtBat       7.046038\n",
       "CHits       14.085526\n",
       "CHmRun       2.306548\n",
       "CRuns       10.798962\n",
       "CRBI        19.977207\n",
       "CWalks       5.783127\n",
       "League       0.182116\n",
       "Division     0.114808\n",
       "PutOuts      1.831944\n",
       "Assists      1.970422\n",
       "Errors       1.171430\n",
       "NewLeague    0.215434"
      ]
     },
     "execution_count": 107,
     "metadata": {},
     "output_type": "execute_result"
    }
   ],
   "source": [
    "Importance = pd.DataFrame({'Importance': bagged.feature_importances_*100}, \n",
    "                         index=X.columns)\n",
    "Importance"
   ]
  },
  {
   "cell_type": "code",
   "execution_count": 108,
   "metadata": {},
   "outputs": [
    {
     "data": {
      "image/png": "[encoded data removed]",
      "text/plain": [
       "<Figure size 432x288 with 1 Axes>"
      ]
     },
     "metadata": {
      "needs_background": "light"
     },
     "output_type": "display_data"
    }
   ],
   "source": [
    "Importance.sort_values(by='Importance', axis = 0, ascending = True)\\\n",
    "                        .plot(kind = 'barh', color='r',)\n",
    "plt.xlabel('Variable Importance')\n",
    "plt.gca.legend_ = None\n",
    "plt.grid()"
   ]
  },
  {
   "cell_type": "code",
   "execution_count": 109,
   "metadata": {},
   "outputs": [],
   "source": [
    "# According to the plot, the most important predictors\n",
    "# are CRBI, CHits, CRuns, Walks."
   ]
  },
  {
   "cell_type": "code",
   "execution_count": 110,
   "metadata": {},
   "outputs": [],
   "source": [
    "# b)"
   ]
  },
  {
   "cell_type": "code",
   "execution_count": 111,
   "metadata": {},
   "outputs": [
    {
     "data": {
      "text/plain": [
       "GradientBoostingRegressor(alpha=0.9, criterion='friedman_mse', init=None,\n",
       "                          learning_rate=0.1, loss='ls', max_depth=4,\n",
       "                          max_features=None, max_leaf_nodes=None,\n",
       "                          min_impurity_decrease=0.0, min_impurity_split=None,\n",
       "                          min_samples_leaf=1, min_samples_split=2,\n",
       "                          min_weight_fraction_leaf=0.0, n_estimators=100,\n",
       "                          n_iter_no_change=None, presort='auto', random_state=1,\n",
       "                          subsample=1.0, tol=0.0001, validation_fraction=0.1,\n",
       "                          verbose=0, warm_start=False)"
      ]
     },
     "execution_count": 111,
     "metadata": {},
     "output_type": "execute_result"
    }
   ],
   "source": [
    "boosted_df1 = GradientBoostingRegressor(n_estimators = 100, learning_rate = 0.1, max_depth = 4,\n",
    "                                       random_state = 1)\n",
    "boosted_df1.fit(X_train, y_train)"
   ]
  },
  {
   "cell_type": "code",
   "execution_count": 112,
   "metadata": {},
   "outputs": [],
   "source": [
    "importance = boosted_df1.feature_importances_*100"
   ]
  },
  {
   "cell_type": "code",
   "execution_count": 113,
   "metadata": {},
   "outputs": [
    {
     "data": {
      "text/html": [
       "<div>\n",
       "<style scoped>\n",
       "    .dataframe tbody tr th:only-of-type {\n",
       "        vertical-align: middle;\n",
       "    }\n",
       "\n",
       "    .dataframe tbody tr th {\n",
       "        vertical-align: top;\n",
       "    }\n",
       "\n",
       "    .dataframe thead th {\n",
       "        text-align: right;\n",
       "    }\n",
       "</style>\n",
       "<table border=\"1\" class=\"dataframe\">\n",
       "  <thead>\n",
       "    <tr style=\"text-align: right;\">\n",
       "      <th></th>\n",
       "      <th>Importance</th>\n",
       "    </tr>\n",
       "  </thead>\n",
       "  <tbody>\n",
       "    <tr>\n",
       "      <th>AtBat</th>\n",
       "      <td>4.753850</td>\n",
       "    </tr>\n",
       "    <tr>\n",
       "      <th>Hits</th>\n",
       "      <td>6.084695</td>\n",
       "    </tr>\n",
       "    <tr>\n",
       "      <th>HmRun</th>\n",
       "      <td>0.111634</td>\n",
       "    </tr>\n",
       "    <tr>\n",
       "      <th>Runs</th>\n",
       "      <td>4.458109</td>\n",
       "    </tr>\n",
       "    <tr>\n",
       "      <th>RBI</th>\n",
       "      <td>4.136193</td>\n",
       "    </tr>\n",
       "    <tr>\n",
       "      <th>Walks</th>\n",
       "      <td>14.172933</td>\n",
       "    </tr>\n",
       "    <tr>\n",
       "      <th>Years</th>\n",
       "      <td>1.775501</td>\n",
       "    </tr>\n",
       "    <tr>\n",
       "      <th>CAtBat</th>\n",
       "      <td>7.250907</td>\n",
       "    </tr>\n",
       "    <tr>\n",
       "      <th>CHits</th>\n",
       "      <td>2.784121</td>\n",
       "    </tr>\n",
       "    <tr>\n",
       "      <th>CHmRun</th>\n",
       "      <td>1.204371</td>\n",
       "    </tr>\n",
       "    <tr>\n",
       "      <th>CRuns</th>\n",
       "      <td>2.282671</td>\n",
       "    </tr>\n",
       "    <tr>\n",
       "      <th>CRBI</th>\n",
       "      <td>43.233421</td>\n",
       "    </tr>\n",
       "    <tr>\n",
       "      <th>CWalks</th>\n",
       "      <td>0.658874</td>\n",
       "    </tr>\n",
       "    <tr>\n",
       "      <th>League</th>\n",
       "      <td>0.076542</td>\n",
       "    </tr>\n",
       "    <tr>\n",
       "      <th>Division</th>\n",
       "      <td>0.050281</td>\n",
       "    </tr>\n",
       "    <tr>\n",
       "      <th>PutOuts</th>\n",
       "      <td>1.899148</td>\n",
       "    </tr>\n",
       "    <tr>\n",
       "      <th>Assists</th>\n",
       "      <td>3.458409</td>\n",
       "    </tr>\n",
       "    <tr>\n",
       "      <th>Errors</th>\n",
       "      <td>1.541099</td>\n",
       "    </tr>\n",
       "    <tr>\n",
       "      <th>NewLeague</th>\n",
       "      <td>0.067240</td>\n",
       "    </tr>\n",
       "  </tbody>\n",
       "</table>\n",
       "</div>"
      ],
      "text/plain": [
       "           Importance\n",
       "AtBat        4.753850\n",
       "Hits         6.084695\n",
       "HmRun        0.111634\n",
       "Runs         4.458109\n",
       "RBI          4.136193\n",
       "Walks       14.172933\n",
       "Years        1.775501\n",
       "CAtBat       7.250907\n",
       "CHits        2.784121\n",
       "CHmRun       1.204371\n",
       "CRuns        2.282671\n",
       "CRBI        43.233421\n",
       "CWalks       0.658874\n",
       "League       0.076542\n",
       "Division     0.050281\n",
       "PutOuts      1.899148\n",
       "Assists      3.458409\n",
       "Errors       1.541099\n",
       "NewLeague    0.067240"
      ]
     },
     "execution_count": 113,
     "metadata": {},
     "output_type": "execute_result"
    }
   ],
   "source": [
    "rel_imp = pd.DataFrame({'Importance': importance}, index = X.columns)\n",
    "rel_imp"
   ]
  },
  {
   "cell_type": "code",
   "execution_count": 114,
   "metadata": {
    "scrolled": true
   },
   "outputs": [
    {
     "data": {
      "image/png": "[encoded data removed]",
      "text/plain": [
       "<Figure size 432x288 with 1 Axes>"
      ]
     },
     "metadata": {
      "needs_background": "light"
     },
     "output_type": "display_data"
    }
   ],
   "source": [
    "rel_imp.sort_values(by = 'Importance', axis = 0, ascending = True). plot(kind = 'barh', color = 'r')\n",
    "plt.xlabel('Variable Importance')\n",
    "plt.gca().legend_ = None\n",
    "plt.grid()"
   ]
  },
  {
   "cell_type": "code",
   "execution_count": 115,
   "metadata": {},
   "outputs": [],
   "source": [
    "# According to the plot, the most important predictor\n",
    "# is CRBI, Walks, CAtBat."
   ]
  },
  {
   "cell_type": "code",
   "execution_count": 116,
   "metadata": {},
   "outputs": [
    {
     "data": {
      "text/plain": [
       "96344.8969470074"
      ]
     },
     "execution_count": 116,
     "metadata": {},
     "output_type": "execute_result"
    }
   ],
   "source": [
    "mean_squared_error(y_test, boosted_df1.predict(X_test))"
   ]
  },
  {
   "cell_type": "code",
   "execution_count": 117,
   "metadata": {},
   "outputs": [],
   "source": [
    "# The MSE value is 96344.8969470074."
   ]
  },
  {
   "cell_type": "code",
   "execution_count": 134,
   "metadata": {},
   "outputs": [
    {
     "data": {
      "text/plain": [
       "263"
      ]
     },
     "execution_count": 134,
     "metadata": {},
     "output_type": "execute_result"
    }
   ],
   "source": [
    "# c)\n",
    "len(X)"
   ]
  },
  {
   "cell_type": "code",
   "execution_count": 128,
   "metadata": {},
   "outputs": [
    {
     "ename": "AttributeError",
     "evalue": "'numpy.ndarray' object has no attribute 'values'",
     "output_type": "error",
     "traceback": [
      "\u001b[1;31m---------------------------------------------------------------------------\u001b[0m",
      "\u001b[1;31mAttributeError\u001b[0m                            Traceback (most recent call last)",
      "\u001b[1;32m<ipython-input-128-3b830069efc9>\u001b[0m in \u001b[0;36m<module>\u001b[1;34m\u001b[0m\n\u001b[0;32m      1\u001b[0m \u001b[0mX\u001b[0m \u001b[1;33m=\u001b[0m \u001b[0mdf\u001b[0m\u001b[1;33m[\u001b[0m\u001b[1;33m[\u001b[0m\u001b[1;34m'CRBI'\u001b[0m\u001b[1;33m,\u001b[0m \u001b[1;34m'CHits'\u001b[0m\u001b[1;33m,\u001b[0m \u001b[1;34m'CRuns'\u001b[0m\u001b[1;33m,\u001b[0m \u001b[1;34m'Walks'\u001b[0m\u001b[1;33m]\u001b[0m\u001b[1;33m]\u001b[0m\u001b[1;33m\u001b[0m\u001b[1;33m\u001b[0m\u001b[0m\n\u001b[1;32m----> 2\u001b[1;33m \u001b[0my\u001b[0m \u001b[1;33m=\u001b[0m \u001b[0my\u001b[0m\u001b[1;33m.\u001b[0m\u001b[0mvalues\u001b[0m\u001b[1;33m.\u001b[0m\u001b[0mreshape\u001b[0m\u001b[1;33m(\u001b[0m\u001b[1;33m-\u001b[0m\u001b[1;36m1\u001b[0m\u001b[1;33m,\u001b[0m\u001b[1;36m1\u001b[0m\u001b[1;33m)\u001b[0m\u001b[1;33m\u001b[0m\u001b[1;33m\u001b[0m\u001b[0m\n\u001b[0m\u001b[0;32m      3\u001b[0m x_train, y_train, x_test, y_test = train_test_split(X,y,train_size=0.5,\n\u001b[0;32m      4\u001b[0m                                                 test_size = 0.50,random_state=0)\n\u001b[0;32m      5\u001b[0m \u001b[0mx_train\u001b[0m\u001b[1;33m\u001b[0m\u001b[1;33m\u001b[0m\u001b[0m\n",
      "\u001b[1;31mAttributeError\u001b[0m: 'numpy.ndarray' object has no attribute 'values'"
     ]
    }
   ],
   "source": [
    "X = df[['CRBI', 'CHits', 'CRuns', 'Walks']]\n",
    "y = y.values.reshape(-1,1)\n",
    "x_train, y_train, x_test, y_test = train_test_split(X,y,train_size=0.5,\n",
    "                                                test_size = 0.50,random_state=0)\n",
    "x_train"
   ]
  },
  {
   "cell_type": "code",
   "execution_count": 121,
   "metadata": {},
   "outputs": [
    {
     "ename": "ValueError",
     "evalue": "Found input variables with inconsistent numbers of samples: [131, 132]",
     "output_type": "error",
     "traceback": [
      "\u001b[1;31m---------------------------------------------------------------------------\u001b[0m",
      "\u001b[1;31mValueError\u001b[0m                                Traceback (most recent call last)",
      "\u001b[1;32m<ipython-input-121-624c44d1ba76>\u001b[0m in \u001b[0;36m<module>\u001b[1;34m\u001b[0m\n\u001b[0;32m      1\u001b[0m \u001b[0mreg\u001b[0m \u001b[1;33m=\u001b[0m \u001b[0mlinear_model\u001b[0m\u001b[1;33m.\u001b[0m\u001b[0mLinearRegression\u001b[0m\u001b[1;33m(\u001b[0m\u001b[1;33m)\u001b[0m\u001b[1;33m\u001b[0m\u001b[1;33m\u001b[0m\u001b[0m\n\u001b[1;32m----> 2\u001b[1;33m \u001b[0mreg\u001b[0m\u001b[1;33m.\u001b[0m\u001b[0mfit\u001b[0m\u001b[1;33m(\u001b[0m\u001b[0mx_train\u001b[0m\u001b[1;33m,\u001b[0m \u001b[0my_train\u001b[0m\u001b[1;33m)\u001b[0m\u001b[1;33m\u001b[0m\u001b[1;33m\u001b[0m\u001b[0m\n\u001b[0m",
      "\u001b[1;32mD:\\Anaconda3\\lib\\site-packages\\sklearn\\linear_model\\base.py\u001b[0m in \u001b[0;36mfit\u001b[1;34m(self, X, y, sample_weight)\u001b[0m\n\u001b[0;32m    461\u001b[0m         \u001b[0mn_jobs_\u001b[0m \u001b[1;33m=\u001b[0m \u001b[0mself\u001b[0m\u001b[1;33m.\u001b[0m\u001b[0mn_jobs\u001b[0m\u001b[1;33m\u001b[0m\u001b[1;33m\u001b[0m\u001b[0m\n\u001b[0;32m    462\u001b[0m         X, y = check_X_y(X, y, accept_sparse=['csr', 'csc', 'coo'],\n\u001b[1;32m--> 463\u001b[1;33m                          y_numeric=True, multi_output=True)\n\u001b[0m\u001b[0;32m    464\u001b[0m \u001b[1;33m\u001b[0m\u001b[0m\n\u001b[0;32m    465\u001b[0m         \u001b[1;32mif\u001b[0m \u001b[0msample_weight\u001b[0m \u001b[1;32mis\u001b[0m \u001b[1;32mnot\u001b[0m \u001b[1;32mNone\u001b[0m \u001b[1;32mand\u001b[0m \u001b[0mnp\u001b[0m\u001b[1;33m.\u001b[0m\u001b[0matleast_1d\u001b[0m\u001b[1;33m(\u001b[0m\u001b[0msample_weight\u001b[0m\u001b[1;33m)\u001b[0m\u001b[1;33m.\u001b[0m\u001b[0mndim\u001b[0m \u001b[1;33m>\u001b[0m \u001b[1;36m1\u001b[0m\u001b[1;33m:\u001b[0m\u001b[1;33m\u001b[0m\u001b[1;33m\u001b[0m\u001b[0m\n",
      "\u001b[1;32mD:\\Anaconda3\\lib\\site-packages\\sklearn\\utils\\validation.py\u001b[0m in \u001b[0;36mcheck_X_y\u001b[1;34m(X, y, accept_sparse, accept_large_sparse, dtype, order, copy, force_all_finite, ensure_2d, allow_nd, multi_output, ensure_min_samples, ensure_min_features, y_numeric, warn_on_dtype, estimator)\u001b[0m\n\u001b[0;32m    727\u001b[0m         \u001b[0my\u001b[0m \u001b[1;33m=\u001b[0m \u001b[0my\u001b[0m\u001b[1;33m.\u001b[0m\u001b[0mastype\u001b[0m\u001b[1;33m(\u001b[0m\u001b[0mnp\u001b[0m\u001b[1;33m.\u001b[0m\u001b[0mfloat64\u001b[0m\u001b[1;33m)\u001b[0m\u001b[1;33m\u001b[0m\u001b[1;33m\u001b[0m\u001b[0m\n\u001b[0;32m    728\u001b[0m \u001b[1;33m\u001b[0m\u001b[0m\n\u001b[1;32m--> 729\u001b[1;33m     \u001b[0mcheck_consistent_length\u001b[0m\u001b[1;33m(\u001b[0m\u001b[0mX\u001b[0m\u001b[1;33m,\u001b[0m \u001b[0my\u001b[0m\u001b[1;33m)\u001b[0m\u001b[1;33m\u001b[0m\u001b[1;33m\u001b[0m\u001b[0m\n\u001b[0m\u001b[0;32m    730\u001b[0m \u001b[1;33m\u001b[0m\u001b[0m\n\u001b[0;32m    731\u001b[0m     \u001b[1;32mreturn\u001b[0m \u001b[0mX\u001b[0m\u001b[1;33m,\u001b[0m \u001b[0my\u001b[0m\u001b[1;33m\u001b[0m\u001b[1;33m\u001b[0m\u001b[0m\n",
      "\u001b[1;32mD:\\Anaconda3\\lib\\site-packages\\sklearn\\utils\\validation.py\u001b[0m in \u001b[0;36mcheck_consistent_length\u001b[1;34m(*arrays)\u001b[0m\n\u001b[0;32m    203\u001b[0m     \u001b[1;32mif\u001b[0m \u001b[0mlen\u001b[0m\u001b[1;33m(\u001b[0m\u001b[0muniques\u001b[0m\u001b[1;33m)\u001b[0m \u001b[1;33m>\u001b[0m \u001b[1;36m1\u001b[0m\u001b[1;33m:\u001b[0m\u001b[1;33m\u001b[0m\u001b[1;33m\u001b[0m\u001b[0m\n\u001b[0;32m    204\u001b[0m         raise ValueError(\"Found input variables with inconsistent numbers of\"\n\u001b[1;32m--> 205\u001b[1;33m                          \" samples: %r\" % [int(l) for l in lengths])\n\u001b[0m\u001b[0;32m    206\u001b[0m \u001b[1;33m\u001b[0m\u001b[0m\n\u001b[0;32m    207\u001b[0m \u001b[1;33m\u001b[0m\u001b[0m\n",
      "\u001b[1;31mValueError\u001b[0m: Found input variables with inconsistent numbers of samples: [131, 132]"
     ]
    }
   ],
   "source": [
    "reg = linear_model.LinearRegression()\n",
    "reg.fit(x_train, y_train)"
   ]
  },
  {
   "cell_type": "code",
   "execution_count": 29,
   "metadata": {},
   "outputs": [
    {
     "data": {
      "text/plain": [
       "array([-1.51427238e-03,  1.82135198e-02,  7.30485392e-01,  4.70093000e+00])"
      ]
     },
     "execution_count": 29,
     "metadata": {},
     "output_type": "execute_result"
    }
   ],
   "source": [
    "reg.coef_"
   ]
  },
  {
   "cell_type": "code",
   "execution_count": 30,
   "metadata": {},
   "outputs": [
    {
     "data": {
      "text/plain": [
       "77.07486465748434"
      ]
     },
     "execution_count": 30,
     "metadata": {},
     "output_type": "execute_result"
    }
   ],
   "source": [
    "reg.intercept_"
   ]
  },
  {
   "cell_type": "code",
   "execution_count": 31,
   "metadata": {},
   "outputs": [],
   "source": [
    "pred2 = reg.predict(X_test[['CRBI', 'CHits', 'CRuns', 'Walks']])"
   ]
  },
  {
   "cell_type": "code",
   "execution_count": 32,
   "metadata": {},
   "outputs": [
    {
     "data": {
      "text/plain": [
       "145138.89788196175"
      ]
     },
     "execution_count": 32,
     "metadata": {},
     "output_type": "execute_result"
    }
   ],
   "source": [
    "mean_squared_error(y_test, pred2)"
   ]
  },
  {
   "cell_type": "code",
   "execution_count": 33,
   "metadata": {},
   "outputs": [],
   "source": [
    "# The test MSE is 145138.89788196175."
   ]
  },
  {
   "cell_type": "markdown",
   "metadata": {},
   "source": [
    "\n",
    "# Question2"
   ]
  },
  {
   "cell_type": "code",
   "execution_count": 34,
   "metadata": {},
   "outputs": [],
   "source": [
    "df = pd.read_csv('bodyfat.csv')"
   ]
  },
  {
   "cell_type": "code",
   "execution_count": 35,
   "metadata": {},
   "outputs": [
    {
     "name": "stdout",
     "output_type": "stream",
     "text": [
      "<class 'pandas.core.frame.DataFrame'>\n",
      "RangeIndex: 20 entries, 0 to 19\n",
      "Data columns (total 4 columns):\n",
      "skinfold    20 non-null float64\n",
      "thigh       20 non-null float64\n",
      "midarm      20 non-null float64\n",
      "bodyfat     20 non-null float64\n",
      "dtypes: float64(4)\n",
      "memory usage: 720.0 bytes\n"
     ]
    }
   ],
   "source": [
    "df.info()"
   ]
  },
  {
   "cell_type": "code",
   "execution_count": 36,
   "metadata": {},
   "outputs": [],
   "source": [
    "X = df.drop(['bodyfat'], axis = 1)\n",
    "y = df.bodyfat"
   ]
  },
  {
   "cell_type": "code",
   "execution_count": 37,
   "metadata": {},
   "outputs": [
    {
     "data": {
      "text/html": [
       "<div>\n",
       "<style scoped>\n",
       "    .dataframe tbody tr th:only-of-type {\n",
       "        vertical-align: middle;\n",
       "    }\n",
       "\n",
       "    .dataframe tbody tr th {\n",
       "        vertical-align: top;\n",
       "    }\n",
       "\n",
       "    .dataframe thead th {\n",
       "        text-align: right;\n",
       "    }\n",
       "</style>\n",
       "<table border=\"1\" class=\"dataframe\">\n",
       "  <thead>\n",
       "    <tr style=\"text-align: right;\">\n",
       "      <th></th>\n",
       "      <th>skinfold</th>\n",
       "      <th>thigh</th>\n",
       "      <th>midarm</th>\n",
       "    </tr>\n",
       "  </thead>\n",
       "  <tbody>\n",
       "    <tr>\n",
       "      <th>0</th>\n",
       "      <td>19.5</td>\n",
       "      <td>43.1</td>\n",
       "      <td>29.1</td>\n",
       "    </tr>\n",
       "    <tr>\n",
       "      <th>1</th>\n",
       "      <td>24.7</td>\n",
       "      <td>49.8</td>\n",
       "      <td>28.2</td>\n",
       "    </tr>\n",
       "    <tr>\n",
       "      <th>2</th>\n",
       "      <td>30.7</td>\n",
       "      <td>51.9</td>\n",
       "      <td>37.0</td>\n",
       "    </tr>\n",
       "    <tr>\n",
       "      <th>3</th>\n",
       "      <td>29.8</td>\n",
       "      <td>54.3</td>\n",
       "      <td>31.1</td>\n",
       "    </tr>\n",
       "    <tr>\n",
       "      <th>4</th>\n",
       "      <td>19.1</td>\n",
       "      <td>42.2</td>\n",
       "      <td>30.9</td>\n",
       "    </tr>\n",
       "    <tr>\n",
       "      <th>5</th>\n",
       "      <td>25.6</td>\n",
       "      <td>53.9</td>\n",
       "      <td>23.7</td>\n",
       "    </tr>\n",
       "    <tr>\n",
       "      <th>6</th>\n",
       "      <td>31.4</td>\n",
       "      <td>58.5</td>\n",
       "      <td>27.6</td>\n",
       "    </tr>\n",
       "    <tr>\n",
       "      <th>7</th>\n",
       "      <td>27.9</td>\n",
       "      <td>52.1</td>\n",
       "      <td>30.6</td>\n",
       "    </tr>\n",
       "    <tr>\n",
       "      <th>8</th>\n",
       "      <td>22.1</td>\n",
       "      <td>49.9</td>\n",
       "      <td>23.2</td>\n",
       "    </tr>\n",
       "    <tr>\n",
       "      <th>9</th>\n",
       "      <td>25.5</td>\n",
       "      <td>53.5</td>\n",
       "      <td>24.8</td>\n",
       "    </tr>\n",
       "    <tr>\n",
       "      <th>10</th>\n",
       "      <td>31.1</td>\n",
       "      <td>56.6</td>\n",
       "      <td>30.0</td>\n",
       "    </tr>\n",
       "    <tr>\n",
       "      <th>11</th>\n",
       "      <td>30.4</td>\n",
       "      <td>56.7</td>\n",
       "      <td>28.3</td>\n",
       "    </tr>\n",
       "    <tr>\n",
       "      <th>12</th>\n",
       "      <td>18.7</td>\n",
       "      <td>46.5</td>\n",
       "      <td>23.0</td>\n",
       "    </tr>\n",
       "    <tr>\n",
       "      <th>13</th>\n",
       "      <td>19.7</td>\n",
       "      <td>44.2</td>\n",
       "      <td>28.6</td>\n",
       "    </tr>\n",
       "    <tr>\n",
       "      <th>14</th>\n",
       "      <td>14.6</td>\n",
       "      <td>42.7</td>\n",
       "      <td>21.3</td>\n",
       "    </tr>\n",
       "    <tr>\n",
       "      <th>15</th>\n",
       "      <td>29.5</td>\n",
       "      <td>54.4</td>\n",
       "      <td>30.1</td>\n",
       "    </tr>\n",
       "    <tr>\n",
       "      <th>16</th>\n",
       "      <td>27.7</td>\n",
       "      <td>55.3</td>\n",
       "      <td>25.7</td>\n",
       "    </tr>\n",
       "    <tr>\n",
       "      <th>17</th>\n",
       "      <td>30.2</td>\n",
       "      <td>58.6</td>\n",
       "      <td>24.6</td>\n",
       "    </tr>\n",
       "    <tr>\n",
       "      <th>18</th>\n",
       "      <td>22.7</td>\n",
       "      <td>48.2</td>\n",
       "      <td>27.1</td>\n",
       "    </tr>\n",
       "    <tr>\n",
       "      <th>19</th>\n",
       "      <td>25.2</td>\n",
       "      <td>51.0</td>\n",
       "      <td>27.5</td>\n",
       "    </tr>\n",
       "  </tbody>\n",
       "</table>\n",
       "</div>"
      ],
      "text/plain": [
       "    skinfold  thigh  midarm\n",
       "0       19.5   43.1    29.1\n",
       "1       24.7   49.8    28.2\n",
       "2       30.7   51.9    37.0\n",
       "3       29.8   54.3    31.1\n",
       "4       19.1   42.2    30.9\n",
       "5       25.6   53.9    23.7\n",
       "6       31.4   58.5    27.6\n",
       "7       27.9   52.1    30.6\n",
       "8       22.1   49.9    23.2\n",
       "9       25.5   53.5    24.8\n",
       "10      31.1   56.6    30.0\n",
       "11      30.4   56.7    28.3\n",
       "12      18.7   46.5    23.0\n",
       "13      19.7   44.2    28.6\n",
       "14      14.6   42.7    21.3\n",
       "15      29.5   54.4    30.1\n",
       "16      27.7   55.3    25.7\n",
       "17      30.2   58.6    24.6\n",
       "18      22.7   48.2    27.1\n",
       "19      25.2   51.0    27.5"
      ]
     },
     "execution_count": 37,
     "metadata": {},
     "output_type": "execute_result"
    }
   ],
   "source": [
    "X"
   ]
  },
  {
   "cell_type": "code",
   "execution_count": 38,
   "metadata": {},
   "outputs": [],
   "source": [
    "# a)"
   ]
  },
  {
   "cell_type": "code",
   "execution_count": 39,
   "metadata": {},
   "outputs": [],
   "source": [
    "x = X.drop(['midarm'], axis = 1)\n",
    "y1 = X.midarm"
   ]
  },
  {
   "cell_type": "code",
   "execution_count": 40,
   "metadata": {},
   "outputs": [
    {
     "data": {
      "text/html": [
       "<div>\n",
       "<style scoped>\n",
       "    .dataframe tbody tr th:only-of-type {\n",
       "        vertical-align: middle;\n",
       "    }\n",
       "\n",
       "    .dataframe tbody tr th {\n",
       "        vertical-align: top;\n",
       "    }\n",
       "\n",
       "    .dataframe thead th {\n",
       "        text-align: right;\n",
       "    }\n",
       "</style>\n",
       "<table border=\"1\" class=\"dataframe\">\n",
       "  <thead>\n",
       "    <tr style=\"text-align: right;\">\n",
       "      <th></th>\n",
       "      <th>skinfold</th>\n",
       "      <th>thigh</th>\n",
       "      <th>midarm</th>\n",
       "    </tr>\n",
       "  </thead>\n",
       "  <tbody>\n",
       "    <tr>\n",
       "      <th>skinfold</th>\n",
       "      <td>1.000000</td>\n",
       "      <td>0.923843</td>\n",
       "      <td>0.457777</td>\n",
       "    </tr>\n",
       "    <tr>\n",
       "      <th>thigh</th>\n",
       "      <td>0.923843</td>\n",
       "      <td>1.000000</td>\n",
       "      <td>0.084667</td>\n",
       "    </tr>\n",
       "    <tr>\n",
       "      <th>midarm</th>\n",
       "      <td>0.457777</td>\n",
       "      <td>0.084667</td>\n",
       "      <td>1.000000</td>\n",
       "    </tr>\n",
       "  </tbody>\n",
       "</table>\n",
       "</div>"
      ],
      "text/plain": [
       "          skinfold     thigh    midarm\n",
       "skinfold  1.000000  0.923843  0.457777\n",
       "thigh     0.923843  1.000000  0.084667\n",
       "midarm    0.457777  0.084667  1.000000"
      ]
     },
     "execution_count": 40,
     "metadata": {},
     "output_type": "execute_result"
    }
   ],
   "source": [
    "list =['skinfold', 'thigh', 'midarm']\n",
    "xz = X[list]\n",
    "xz.corr()"
   ]
  },
  {
   "cell_type": "code",
   "execution_count": 41,
   "metadata": {},
   "outputs": [],
   "source": [
    "# The predictors show low correlation is thigh with midarm and\n",
    "# midarm with skinfold."
   ]
  },
  {
   "cell_type": "code",
   "execution_count": 42,
   "metadata": {},
   "outputs": [],
   "source": [
    "m = LinearRegression().fit(x, y1)\n",
    "MSE = mean_squared_error(y1, m.predict(x))\n",
    "SSE = MSE * len(y1)\n",
    "R_squared = m.score(x, y1)"
   ]
  },
  {
   "cell_type": "code",
   "execution_count": 43,
   "metadata": {},
   "outputs": [
    {
     "data": {
      "text/plain": [
       "0.9904403193686466"
      ]
     },
     "execution_count": 43,
     "metadata": {},
     "output_type": "execute_result"
    }
   ],
   "source": [
    "R_squared"
   ]
  },
  {
   "cell_type": "code",
   "execution_count": 44,
   "metadata": {},
   "outputs": [],
   "source": [
    "# The R^2 value is 0.9904403193686466."
   ]
  },
  {
   "cell_type": "code",
   "execution_count": 45,
   "metadata": {},
   "outputs": [],
   "source": [
    "# Since the R^2 is very closet to 1. We can say midarm \n",
    "# circumference linearly related to the other predictors."
   ]
  },
  {
   "cell_type": "code",
   "execution_count": 46,
   "metadata": {},
   "outputs": [],
   "source": [
    "# b)"
   ]
  },
  {
   "cell_type": "code",
   "execution_count": 47,
   "metadata": {},
   "outputs": [],
   "source": [
    "corr_new = xz.corr().to_numpy()"
   ]
  },
  {
   "cell_type": "code",
   "execution_count": 48,
   "metadata": {},
   "outputs": [],
   "source": [
    "alphas = np.arange(0.01, 1, 0.01)\n",
    "VIF = np.array([np.diag(np.linalg.inv(corr_new + i * np.identity(3))@corr_new@\n",
    "                       np.linalg.inv(corr_new + i * np.identity(3)))\n",
    "               for i in alphas])"
   ]
  },
  {
   "cell_type": "code",
   "execution_count": 49,
   "metadata": {},
   "outputs": [
    {
     "data": {
      "text/plain": [
       "<matplotlib.legend.Legend at 0x1b051c6edd8>"
      ]
     },
     "execution_count": 49,
     "metadata": {},
     "output_type": "execute_result"
    },
    {
     "data": {
      "image/png": "[encoded data removed]",
      "text/plain": [
       "<Figure size 720x360 with 1 Axes>"
      ]
     },
     "metadata": {
      "needs_background": "light"
     },
     "output_type": "display_data"
    }
   ],
   "source": [
    "plt.figure(figsize=(10,5))\n",
    "plt.plot(alphas, VIF[:,0], label = 'Skinfold')\n",
    "plt.plot(alphas, VIF[:,1], label = 'Thigh')\n",
    "plt.plot(alphas, VIF[:,2], label = 'Midarm')\n",
    "plt.xlabel('alpha')\n",
    "plt.legend()"
   ]
  },
  {
   "cell_type": "markdown",
   "metadata": {},
   "source": [
    "# Question3"
   ]
  },
  {
   "cell_type": "code",
   "execution_count": 50,
   "metadata": {},
   "outputs": [],
   "source": [
    "df = pd.read_csv('Caravan.csv')"
   ]
  },
  {
   "cell_type": "code",
   "execution_count": 51,
   "metadata": {},
   "outputs": [],
   "source": [
    "df[['Purchase']] = pd.get_dummies(df[['Purchase']],drop_first=True)"
   ]
  },
  {
   "cell_type": "code",
   "execution_count": 52,
   "metadata": {},
   "outputs": [],
   "source": [
    "x3 = df.drop(['Purchase'], axis = 1)\n",
    "y3 = df.Purchase"
   ]
  },
  {
   "cell_type": "code",
   "execution_count": 53,
   "metadata": {},
   "outputs": [],
   "source": [
    "x_train = x3[:1000]\n",
    "y_train = y3[:1000]"
   ]
  },
  {
   "cell_type": "code",
   "execution_count": 54,
   "metadata": {},
   "outputs": [],
   "source": [
    "x_test = x3[1000:]\n",
    "y_test = y3[1000:]"
   ]
  },
  {
   "cell_type": "code",
   "execution_count": 55,
   "metadata": {},
   "outputs": [],
   "source": [
    "# a)"
   ]
  },
  {
   "cell_type": "code",
   "execution_count": 56,
   "metadata": {},
   "outputs": [
    {
     "data": {
      "text/plain": [
       "0    5813\n",
       "6       7\n",
       "9       1\n",
       "4       1\n",
       "Name: PVRAAUT, dtype: int64"
      ]
     },
     "execution_count": 56,
     "metadata": {},
     "output_type": "execute_result"
    }
   ],
   "source": [
    "df['PVRAAUT'].value_counts()"
   ]
  },
  {
   "cell_type": "code",
   "execution_count": 57,
   "metadata": {},
   "outputs": [
    {
     "data": {
      "text/plain": [
       "0    5813\n",
       "1       6\n",
       "2       2\n",
       "3       1\n",
       "Name: AVRAAUT, dtype: int64"
      ]
     },
     "execution_count": 57,
     "metadata": {},
     "output_type": "execute_result"
    }
   ],
   "source": [
    "df['AVRAAUT'].value_counts()"
   ]
  },
  {
   "cell_type": "code",
   "execution_count": 58,
   "metadata": {},
   "outputs": [],
   "source": [
    "df = df.drop(['PVRAAUT', 'AVRAAUT'], axis=1)\n",
    "x3 = df.drop(['Purchase'], axis = 1)\n",
    "y3 = df.Purchase\n",
    "x_train = x3[:1000]\n",
    "y_train = y3[:1000]\n",
    "x_test = x3[1000:]\n",
    "y_test = y3[1000:]"
   ]
  },
  {
   "cell_type": "code",
   "execution_count": 59,
   "metadata": {},
   "outputs": [],
   "source": [
    "# b)"
   ]
  },
  {
   "cell_type": "code",
   "execution_count": 60,
   "metadata": {},
   "outputs": [
    {
     "data": {
      "text/plain": [
       "RandomForestClassifier(bootstrap=True, class_weight=None, criterion='gini',\n",
       "                       max_depth=None, max_features=29, max_leaf_nodes=None,\n",
       "                       min_impurity_decrease=0.0, min_impurity_split=None,\n",
       "                       min_samples_leaf=1, min_samples_split=2,\n",
       "                       min_weight_fraction_leaf=0.0, n_estimators=500,\n",
       "                       n_jobs=None, oob_score=False, random_state=1, verbose=0,\n",
       "                       warm_start=False)"
      ]
     },
     "execution_count": 60,
     "metadata": {},
     "output_type": "execute_result"
    }
   ],
   "source": [
    "random_forest = RandomForestClassifier(max_features = 29,\n",
    "                                     n_estimators = 500,\n",
    "                                     random_state = 1)\n",
    "random_forest.fit(x_train, y_train)"
   ]
  },
  {
   "cell_type": "code",
   "execution_count": 61,
   "metadata": {},
   "outputs": [],
   "source": [
    "# test MSE"
   ]
  },
  {
   "cell_type": "code",
   "execution_count": 62,
   "metadata": {},
   "outputs": [
    {
     "data": {
      "text/plain": [
       "0.06822895064288677"
      ]
     },
     "execution_count": 62,
     "metadata": {},
     "output_type": "execute_result"
    }
   ],
   "source": [
    "pred = random_forest.predict(x_test)\n",
    "mean_squared_error(y_test,pred)"
   ]
  },
  {
   "cell_type": "code",
   "execution_count": 63,
   "metadata": {},
   "outputs": [],
   "source": [
    "# Test MSE is 0.06822895064288677."
   ]
  },
  {
   "cell_type": "code",
   "execution_count": 64,
   "metadata": {},
   "outputs": [
    {
     "data": {
      "text/html": [
       "<div>\n",
       "<style scoped>\n",
       "    .dataframe tbody tr th:only-of-type {\n",
       "        vertical-align: middle;\n",
       "    }\n",
       "\n",
       "    .dataframe tbody tr th {\n",
       "        vertical-align: top;\n",
       "    }\n",
       "\n",
       "    .dataframe thead th {\n",
       "        text-align: right;\n",
       "    }\n",
       "</style>\n",
       "<table border=\"1\" class=\"dataframe\">\n",
       "  <thead>\n",
       "    <tr style=\"text-align: right;\">\n",
       "      <th></th>\n",
       "      <th>Importance</th>\n",
       "    </tr>\n",
       "  </thead>\n",
       "  <tbody>\n",
       "    <tr>\n",
       "      <th>PPERSAUT</th>\n",
       "      <td>3.426791</td>\n",
       "    </tr>\n",
       "    <tr>\n",
       "      <th>MOSTYPE</th>\n",
       "      <td>3.333823</td>\n",
       "    </tr>\n",
       "    <tr>\n",
       "      <th>MGODGE</th>\n",
       "      <td>3.302695</td>\n",
       "    </tr>\n",
       "    <tr>\n",
       "      <th>MOPLHOOG</th>\n",
       "      <td>3.024537</td>\n",
       "    </tr>\n",
       "    <tr>\n",
       "      <th>PBRAND</th>\n",
       "      <td>2.804189</td>\n",
       "    </tr>\n",
       "    <tr>\n",
       "      <th>MGODPR</th>\n",
       "      <td>2.659090</td>\n",
       "    </tr>\n",
       "    <tr>\n",
       "      <th>MKOOPKLA</th>\n",
       "      <td>2.606417</td>\n",
       "    </tr>\n",
       "    <tr>\n",
       "      <th>ABRAND</th>\n",
       "      <td>2.326212</td>\n",
       "    </tr>\n",
       "    <tr>\n",
       "      <th>MBERMIDD</th>\n",
       "      <td>2.311773</td>\n",
       "    </tr>\n",
       "    <tr>\n",
       "      <th>MFWEKIND</th>\n",
       "      <td>2.250384</td>\n",
       "    </tr>\n",
       "    <tr>\n",
       "      <th>PWAPART</th>\n",
       "      <td>2.217806</td>\n",
       "    </tr>\n",
       "    <tr>\n",
       "      <th>MSKB1</th>\n",
       "      <td>2.170790</td>\n",
       "    </tr>\n",
       "    <tr>\n",
       "      <th>MOPLMIDD</th>\n",
       "      <td>2.120347</td>\n",
       "    </tr>\n",
       "    <tr>\n",
       "      <th>PPLEZIER</th>\n",
       "      <td>2.103454</td>\n",
       "    </tr>\n",
       "    <tr>\n",
       "      <th>MSKC</th>\n",
       "      <td>1.997885</td>\n",
       "    </tr>\n",
       "    <tr>\n",
       "      <th>MRELGE</th>\n",
       "      <td>1.997277</td>\n",
       "    </tr>\n",
       "    <tr>\n",
       "      <th>MBERARBG</th>\n",
       "      <td>1.977832</td>\n",
       "    </tr>\n",
       "    <tr>\n",
       "      <th>MINK3045</th>\n",
       "      <td>1.951262</td>\n",
       "    </tr>\n",
       "    <tr>\n",
       "      <th>MINK7512</th>\n",
       "      <td>1.888097</td>\n",
       "    </tr>\n",
       "    <tr>\n",
       "      <th>MBERARBO</th>\n",
       "      <td>1.821897</td>\n",
       "    </tr>\n",
       "    <tr>\n",
       "      <th>MOSHOOFD</th>\n",
       "      <td>1.750794</td>\n",
       "    </tr>\n",
       "    <tr>\n",
       "      <th>MFGEKIND</th>\n",
       "      <td>1.748961</td>\n",
       "    </tr>\n",
       "    <tr>\n",
       "      <th>APERSAUT</th>\n",
       "      <td>1.710442</td>\n",
       "    </tr>\n",
       "    <tr>\n",
       "      <th>MAUT2</th>\n",
       "      <td>1.701052</td>\n",
       "    </tr>\n",
       "    <tr>\n",
       "      <th>MSKA</th>\n",
       "      <td>1.688469</td>\n",
       "    </tr>\n",
       "    <tr>\n",
       "      <th>MBERHOOG</th>\n",
       "      <td>1.670693</td>\n",
       "    </tr>\n",
       "    <tr>\n",
       "      <th>MSKB2</th>\n",
       "      <td>1.644153</td>\n",
       "    </tr>\n",
       "    <tr>\n",
       "      <th>MAUT0</th>\n",
       "      <td>1.632042</td>\n",
       "    </tr>\n",
       "    <tr>\n",
       "      <th>MINKM30</th>\n",
       "      <td>1.615414</td>\n",
       "    </tr>\n",
       "    <tr>\n",
       "      <th>MZFONDS</th>\n",
       "      <td>1.601552</td>\n",
       "    </tr>\n",
       "    <tr>\n",
       "      <th>...</th>\n",
       "      <td>...</td>\n",
       "    </tr>\n",
       "    <tr>\n",
       "      <th>MBERZELF</th>\n",
       "      <td>0.786103</td>\n",
       "    </tr>\n",
       "    <tr>\n",
       "      <th>PMOTSCO</th>\n",
       "      <td>0.771271</td>\n",
       "    </tr>\n",
       "    <tr>\n",
       "      <th>MSKD</th>\n",
       "      <td>0.740669</td>\n",
       "    </tr>\n",
       "    <tr>\n",
       "      <th>PBYSTAND</th>\n",
       "      <td>0.736304</td>\n",
       "    </tr>\n",
       "    <tr>\n",
       "      <th>AFIETS</th>\n",
       "      <td>0.687904</td>\n",
       "    </tr>\n",
       "    <tr>\n",
       "      <th>ABROM</th>\n",
       "      <td>0.607690</td>\n",
       "    </tr>\n",
       "    <tr>\n",
       "      <th>MINK123M</th>\n",
       "      <td>0.385760</td>\n",
       "    </tr>\n",
       "    <tr>\n",
       "      <th>PZEILPL</th>\n",
       "      <td>0.370075</td>\n",
       "    </tr>\n",
       "    <tr>\n",
       "      <th>ABYSTAND</th>\n",
       "      <td>0.350830</td>\n",
       "    </tr>\n",
       "    <tr>\n",
       "      <th>AGEZONG</th>\n",
       "      <td>0.314797</td>\n",
       "    </tr>\n",
       "    <tr>\n",
       "      <th>MBERBOER</th>\n",
       "      <td>0.289814</td>\n",
       "    </tr>\n",
       "    <tr>\n",
       "      <th>AZEILPL</th>\n",
       "      <td>0.239570</td>\n",
       "    </tr>\n",
       "    <tr>\n",
       "      <th>PTRACTOR</th>\n",
       "      <td>0.206453</td>\n",
       "    </tr>\n",
       "    <tr>\n",
       "      <th>PFIETS</th>\n",
       "      <td>0.194760</td>\n",
       "    </tr>\n",
       "    <tr>\n",
       "      <th>ALEVEN</th>\n",
       "      <td>0.194632</td>\n",
       "    </tr>\n",
       "    <tr>\n",
       "      <th>AAANHANG</th>\n",
       "      <td>0.175105</td>\n",
       "    </tr>\n",
       "    <tr>\n",
       "      <th>PWABEDR</th>\n",
       "      <td>0.147573</td>\n",
       "    </tr>\n",
       "    <tr>\n",
       "      <th>PAANHANG</th>\n",
       "      <td>0.143211</td>\n",
       "    </tr>\n",
       "    <tr>\n",
       "      <th>PWALAND</th>\n",
       "      <td>0.048776</td>\n",
       "    </tr>\n",
       "    <tr>\n",
       "      <th>AWALAND</th>\n",
       "      <td>0.044479</td>\n",
       "    </tr>\n",
       "    <tr>\n",
       "      <th>AWABEDR</th>\n",
       "      <td>0.040292</td>\n",
       "    </tr>\n",
       "    <tr>\n",
       "      <th>ATRACTOR</th>\n",
       "      <td>0.030689</td>\n",
       "    </tr>\n",
       "    <tr>\n",
       "      <th>PINBOED</th>\n",
       "      <td>0.024880</td>\n",
       "    </tr>\n",
       "    <tr>\n",
       "      <th>AINBOED</th>\n",
       "      <td>0.014205</td>\n",
       "    </tr>\n",
       "    <tr>\n",
       "      <th>ABESAUT</th>\n",
       "      <td>0.012575</td>\n",
       "    </tr>\n",
       "    <tr>\n",
       "      <th>APERSONG</th>\n",
       "      <td>0.003812</td>\n",
       "    </tr>\n",
       "    <tr>\n",
       "      <th>PBESAUT</th>\n",
       "      <td>0.001970</td>\n",
       "    </tr>\n",
       "    <tr>\n",
       "      <th>AWERKT</th>\n",
       "      <td>0.001801</td>\n",
       "    </tr>\n",
       "    <tr>\n",
       "      <th>PPERSONG</th>\n",
       "      <td>0.001578</td>\n",
       "    </tr>\n",
       "    <tr>\n",
       "      <th>PWERKT</th>\n",
       "      <td>0.000000</td>\n",
       "    </tr>\n",
       "  </tbody>\n",
       "</table>\n",
       "<p>83 rows × 1 columns</p>\n",
       "</div>"
      ],
      "text/plain": [
       "          Importance\n",
       "PPERSAUT    3.426791\n",
       "MOSTYPE     3.333823\n",
       "MGODGE      3.302695\n",
       "MOPLHOOG    3.024537\n",
       "PBRAND      2.804189\n",
       "MGODPR      2.659090\n",
       "MKOOPKLA    2.606417\n",
       "ABRAND      2.326212\n",
       "MBERMIDD    2.311773\n",
       "MFWEKIND    2.250384\n",
       "PWAPART     2.217806\n",
       "MSKB1       2.170790\n",
       "MOPLMIDD    2.120347\n",
       "PPLEZIER    2.103454\n",
       "MSKC        1.997885\n",
       "MRELGE      1.997277\n",
       "MBERARBG    1.977832\n",
       "MINK3045    1.951262\n",
       "MINK7512    1.888097\n",
       "MBERARBO    1.821897\n",
       "MOSHOOFD    1.750794\n",
       "MFGEKIND    1.748961\n",
       "APERSAUT    1.710442\n",
       "MAUT2       1.701052\n",
       "MSKA        1.688469\n",
       "MBERHOOG    1.670693\n",
       "MSKB2       1.644153\n",
       "MAUT0       1.632042\n",
       "MINKM30     1.615414\n",
       "MZFONDS     1.601552\n",
       "...              ...\n",
       "MBERZELF    0.786103\n",
       "PMOTSCO     0.771271\n",
       "MSKD        0.740669\n",
       "PBYSTAND    0.736304\n",
       "AFIETS      0.687904\n",
       "ABROM       0.607690\n",
       "MINK123M    0.385760\n",
       "PZEILPL     0.370075\n",
       "ABYSTAND    0.350830\n",
       "AGEZONG     0.314797\n",
       "MBERBOER    0.289814\n",
       "AZEILPL     0.239570\n",
       "PTRACTOR    0.206453\n",
       "PFIETS      0.194760\n",
       "ALEVEN      0.194632\n",
       "AAANHANG    0.175105\n",
       "PWABEDR     0.147573\n",
       "PAANHANG    0.143211\n",
       "PWALAND     0.048776\n",
       "AWALAND     0.044479\n",
       "AWABEDR     0.040292\n",
       "ATRACTOR    0.030689\n",
       "PINBOED     0.024880\n",
       "AINBOED     0.014205\n",
       "ABESAUT     0.012575\n",
       "APERSONG    0.003812\n",
       "PBESAUT     0.001970\n",
       "AWERKT      0.001801\n",
       "PPERSONG    0.001578\n",
       "PWERKT      0.000000\n",
       "\n",
       "[83 rows x 1 columns]"
      ]
     },
     "execution_count": 64,
     "metadata": {},
     "output_type": "execute_result"
    }
   ],
   "source": [
    "importance = random_forest.feature_importances_*100\n",
    "imp = pd.DataFrame({'Importance': importance}, index = x3.columns)\n",
    "imp.sort_values('Importance', ascending = False)"
   ]
  },
  {
   "cell_type": "code",
   "execution_count": 65,
   "metadata": {},
   "outputs": [
    {
     "data": {
      "text/plain": [
       "<Figure size 2880x1440 with 0 Axes>"
      ]
     },
     "metadata": {},
     "output_type": "display_data"
    },
    {
     "data": {
      "image/png": "[encoded data removed]",
      "text/plain": [
       "<Figure size 432x288 with 1 Axes>"
      ]
     },
     "metadata": {
      "needs_background": "light"
     },
     "output_type": "display_data"
    }
   ],
   "source": [
    "plt.figure(figsize=(40,20))\n",
    "imp.sort_values(by = 'Importance', axis = 0, ascending = True). plot(kind = 'barh', color = 'r')\n",
    "plt.xlabel('Variable Importance')\n",
    "plt.gca().legend_ = None\n",
    "plt.grid()"
   ]
  },
  {
   "cell_type": "code",
   "execution_count": 66,
   "metadata": {},
   "outputs": [],
   "source": [
    "# The predictor appears  to be the most important is PPERSAUT."
   ]
  },
  {
   "cell_type": "code",
   "execution_count": 67,
   "metadata": {},
   "outputs": [],
   "source": [
    "pred = random_forest.predict(x_test)\n",
    "pred = np.round(pred) \n",
    "mat = confusion_matrix(y_test, pred)"
   ]
  },
  {
   "cell_type": "code",
   "execution_count": 68,
   "metadata": {},
   "outputs": [
    {
     "data": {
      "text/html": [
       "<div>\n",
       "<style scoped>\n",
       "    .dataframe tbody tr th:only-of-type {\n",
       "        vertical-align: middle;\n",
       "    }\n",
       "\n",
       "    .dataframe tbody tr th {\n",
       "        vertical-align: top;\n",
       "    }\n",
       "\n",
       "    .dataframe thead th {\n",
       "        text-align: right;\n",
       "    }\n",
       "</style>\n",
       "<table border=\"1\" class=\"dataframe\">\n",
       "  <thead>\n",
       "    <tr style=\"text-align: right;\">\n",
       "      <th></th>\n",
       "      <th>No</th>\n",
       "      <th>Yes</th>\n",
       "    </tr>\n",
       "  </thead>\n",
       "  <tbody>\n",
       "    <tr>\n",
       "      <th>No</th>\n",
       "      <td>4481</td>\n",
       "      <td>52</td>\n",
       "    </tr>\n",
       "    <tr>\n",
       "      <th>Yes</th>\n",
       "      <td>277</td>\n",
       "      <td>12</td>\n",
       "    </tr>\n",
       "  </tbody>\n",
       "</table>\n",
       "</div>"
      ],
      "text/plain": [
       "       No  Yes\n",
       "No   4481   52\n",
       "Yes   277   12"
      ]
     },
     "execution_count": 68,
     "metadata": {},
     "output_type": "execute_result"
    }
   ],
   "source": [
    "cm = pd.DataFrame(mat,index = ['No','Yes'],columns = ['No','Yes'])\n",
    "cm"
   ]
  },
  {
   "cell_type": "code",
   "execution_count": 69,
   "metadata": {},
   "outputs": [
    {
     "data": {
      "text/plain": [
       "0.9317710493571132"
      ]
     },
     "execution_count": 69,
     "metadata": {},
     "output_type": "execute_result"
    }
   ],
   "source": [
    "sum1 = cm.values.sum()\n",
    "(4481+12)/sum1"
   ]
  },
  {
   "cell_type": "code",
   "execution_count": 70,
   "metadata": {},
   "outputs": [],
   "source": [
    "# The test accuracy rate is 0.9317710493571132."
   ]
  },
  {
   "cell_type": "code",
   "execution_count": 71,
   "metadata": {},
   "outputs": [],
   "source": [
    "# c)"
   ]
  },
  {
   "cell_type": "code",
   "execution_count": 72,
   "metadata": {},
   "outputs": [
    {
     "data": {
      "text/plain": [
       "GradientBoostingClassifier(criterion='friedman_mse', init=None,\n",
       "                           learning_rate=0.01, loss='deviance', max_depth=4,\n",
       "                           max_features=None, max_leaf_nodes=None,\n",
       "                           min_impurity_decrease=0.0, min_impurity_split=None,\n",
       "                           min_samples_leaf=1, min_samples_split=2,\n",
       "                           min_weight_fraction_leaf=0.0, n_estimators=1000,\n",
       "                           n_iter_no_change=None, presort='auto',\n",
       "                           random_state=1, subsample=1.0, tol=0.0001,\n",
       "                           validation_fraction=0.1, verbose=0,\n",
       "                           warm_start=False)"
      ]
     },
     "execution_count": 72,
     "metadata": {},
     "output_type": "execute_result"
    }
   ],
   "source": [
    "boosted = GradientBoostingClassifier(n_estimators = 1000, learning_rate = 0.01,\n",
    "                                          max_depth = 4, random_state =1)\n",
    "boosted.fit(x_train, y_train)"
   ]
  },
  {
   "cell_type": "code",
   "execution_count": 73,
   "metadata": {},
   "outputs": [],
   "source": [
    "importance = boosted.feature_importances_*100"
   ]
  },
  {
   "cell_type": "code",
   "execution_count": 74,
   "metadata": {},
   "outputs": [
    {
     "data": {
      "text/html": [
       "<div>\n",
       "<style scoped>\n",
       "    .dataframe tbody tr th:only-of-type {\n",
       "        vertical-align: middle;\n",
       "    }\n",
       "\n",
       "    .dataframe tbody tr th {\n",
       "        vertical-align: top;\n",
       "    }\n",
       "\n",
       "    .dataframe thead th {\n",
       "        text-align: right;\n",
       "    }\n",
       "</style>\n",
       "<table border=\"1\" class=\"dataframe\">\n",
       "  <thead>\n",
       "    <tr style=\"text-align: right;\">\n",
       "      <th></th>\n",
       "      <th>Importance</th>\n",
       "    </tr>\n",
       "  </thead>\n",
       "  <tbody>\n",
       "    <tr>\n",
       "      <th>PPERSAUT</th>\n",
       "      <td>6.745348</td>\n",
       "    </tr>\n",
       "    <tr>\n",
       "      <th>MOSTYPE</th>\n",
       "      <td>5.662854</td>\n",
       "    </tr>\n",
       "    <tr>\n",
       "      <th>MOPLHOOG</th>\n",
       "      <td>4.882570</td>\n",
       "    </tr>\n",
       "    <tr>\n",
       "      <th>MGODGE</th>\n",
       "      <td>4.870206</td>\n",
       "    </tr>\n",
       "    <tr>\n",
       "      <th>ABRAND</th>\n",
       "      <td>4.500669</td>\n",
       "    </tr>\n",
       "    <tr>\n",
       "      <th>MKOOPKLA</th>\n",
       "      <td>4.463208</td>\n",
       "    </tr>\n",
       "    <tr>\n",
       "      <th>MGODPR</th>\n",
       "      <td>4.301484</td>\n",
       "    </tr>\n",
       "    <tr>\n",
       "      <th>MBERMIDD</th>\n",
       "      <td>3.768220</td>\n",
       "    </tr>\n",
       "    <tr>\n",
       "      <th>PWAPART</th>\n",
       "      <td>2.809727</td>\n",
       "    </tr>\n",
       "    <tr>\n",
       "      <th>AMOTSCO</th>\n",
       "      <td>2.797485</td>\n",
       "    </tr>\n",
       "    <tr>\n",
       "      <th>MSKB1</th>\n",
       "      <td>2.740412</td>\n",
       "    </tr>\n",
       "    <tr>\n",
       "      <th>MBERARBG</th>\n",
       "      <td>2.702583</td>\n",
       "    </tr>\n",
       "    <tr>\n",
       "      <th>PBRAND</th>\n",
       "      <td>2.588063</td>\n",
       "    </tr>\n",
       "    <tr>\n",
       "      <th>MSKB2</th>\n",
       "      <td>2.324321</td>\n",
       "    </tr>\n",
       "    <tr>\n",
       "      <th>APLEZIER</th>\n",
       "      <td>2.180859</td>\n",
       "    </tr>\n",
       "    <tr>\n",
       "      <th>PPLEZIER</th>\n",
       "      <td>2.021655</td>\n",
       "    </tr>\n",
       "    <tr>\n",
       "      <th>AWAOREG</th>\n",
       "      <td>1.662509</td>\n",
       "    </tr>\n",
       "    <tr>\n",
       "      <th>MRELGE</th>\n",
       "      <td>1.643004</td>\n",
       "    </tr>\n",
       "    <tr>\n",
       "      <th>PGEZONG</th>\n",
       "      <td>1.476181</td>\n",
       "    </tr>\n",
       "    <tr>\n",
       "      <th>PLEVEN</th>\n",
       "      <td>1.447639</td>\n",
       "    </tr>\n",
       "    <tr>\n",
       "      <th>MFGEKIND</th>\n",
       "      <td>1.376941</td>\n",
       "    </tr>\n",
       "    <tr>\n",
       "      <th>MOSHOOFD</th>\n",
       "      <td>1.350630</td>\n",
       "    </tr>\n",
       "    <tr>\n",
       "      <th>MINK3045</th>\n",
       "      <td>1.326546</td>\n",
       "    </tr>\n",
       "    <tr>\n",
       "      <th>MSKA</th>\n",
       "      <td>1.311535</td>\n",
       "    </tr>\n",
       "    <tr>\n",
       "      <th>MFWEKIND</th>\n",
       "      <td>1.194348</td>\n",
       "    </tr>\n",
       "    <tr>\n",
       "      <th>PBYSTAND</th>\n",
       "      <td>1.177688</td>\n",
       "    </tr>\n",
       "    <tr>\n",
       "      <th>MAUT0</th>\n",
       "      <td>1.109665</td>\n",
       "    </tr>\n",
       "    <tr>\n",
       "      <th>MINK4575</th>\n",
       "      <td>1.092916</td>\n",
       "    </tr>\n",
       "    <tr>\n",
       "      <th>MFALLEEN</th>\n",
       "      <td>1.075491</td>\n",
       "    </tr>\n",
       "    <tr>\n",
       "      <th>AFIETS</th>\n",
       "      <td>1.055565</td>\n",
       "    </tr>\n",
       "    <tr>\n",
       "      <th>...</th>\n",
       "      <td>...</td>\n",
       "    </tr>\n",
       "    <tr>\n",
       "      <th>ABYSTAND</th>\n",
       "      <td>0.435884</td>\n",
       "    </tr>\n",
       "    <tr>\n",
       "      <th>MBERARBO</th>\n",
       "      <td>0.392207</td>\n",
       "    </tr>\n",
       "    <tr>\n",
       "      <th>MBERBOER</th>\n",
       "      <td>0.388926</td>\n",
       "    </tr>\n",
       "    <tr>\n",
       "      <th>MGEMLEEF</th>\n",
       "      <td>0.330520</td>\n",
       "    </tr>\n",
       "    <tr>\n",
       "      <th>MRELSA</th>\n",
       "      <td>0.321129</td>\n",
       "    </tr>\n",
       "    <tr>\n",
       "      <th>MAANTHUI</th>\n",
       "      <td>0.315648</td>\n",
       "    </tr>\n",
       "    <tr>\n",
       "      <th>MBERZELF</th>\n",
       "      <td>0.293653</td>\n",
       "    </tr>\n",
       "    <tr>\n",
       "      <th>MSKC</th>\n",
       "      <td>0.273258</td>\n",
       "    </tr>\n",
       "    <tr>\n",
       "      <th>MOPLLAAG</th>\n",
       "      <td>0.259137</td>\n",
       "    </tr>\n",
       "    <tr>\n",
       "      <th>ALEVEN</th>\n",
       "      <td>0.100010</td>\n",
       "    </tr>\n",
       "    <tr>\n",
       "      <th>AWABEDR</th>\n",
       "      <td>0.094119</td>\n",
       "    </tr>\n",
       "    <tr>\n",
       "      <th>PWABEDR</th>\n",
       "      <td>0.089515</td>\n",
       "    </tr>\n",
       "    <tr>\n",
       "      <th>PTRACTOR</th>\n",
       "      <td>0.087202</td>\n",
       "    </tr>\n",
       "    <tr>\n",
       "      <th>AGEZONG</th>\n",
       "      <td>0.082222</td>\n",
       "    </tr>\n",
       "    <tr>\n",
       "      <th>PWALAND</th>\n",
       "      <td>0.080880</td>\n",
       "    </tr>\n",
       "    <tr>\n",
       "      <th>PBROM</th>\n",
       "      <td>0.056458</td>\n",
       "    </tr>\n",
       "    <tr>\n",
       "      <th>ABROM</th>\n",
       "      <td>0.039946</td>\n",
       "    </tr>\n",
       "    <tr>\n",
       "      <th>AWALAND</th>\n",
       "      <td>0.025547</td>\n",
       "    </tr>\n",
       "    <tr>\n",
       "      <th>MINK123M</th>\n",
       "      <td>0.020661</td>\n",
       "    </tr>\n",
       "    <tr>\n",
       "      <th>ATRACTOR</th>\n",
       "      <td>0.020244</td>\n",
       "    </tr>\n",
       "    <tr>\n",
       "      <th>PBESAUT</th>\n",
       "      <td>0.015095</td>\n",
       "    </tr>\n",
       "    <tr>\n",
       "      <th>ABESAUT</th>\n",
       "      <td>0.014004</td>\n",
       "    </tr>\n",
       "    <tr>\n",
       "      <th>PINBOED</th>\n",
       "      <td>0.007840</td>\n",
       "    </tr>\n",
       "    <tr>\n",
       "      <th>AAANHANG</th>\n",
       "      <td>0.005544</td>\n",
       "    </tr>\n",
       "    <tr>\n",
       "      <th>AINBOED</th>\n",
       "      <td>0.005445</td>\n",
       "    </tr>\n",
       "    <tr>\n",
       "      <th>PAANHANG</th>\n",
       "      <td>0.003551</td>\n",
       "    </tr>\n",
       "    <tr>\n",
       "      <th>APERSONG</th>\n",
       "      <td>0.002045</td>\n",
       "    </tr>\n",
       "    <tr>\n",
       "      <th>AWERKT</th>\n",
       "      <td>0.000000</td>\n",
       "    </tr>\n",
       "    <tr>\n",
       "      <th>PPERSONG</th>\n",
       "      <td>0.000000</td>\n",
       "    </tr>\n",
       "    <tr>\n",
       "      <th>PWERKT</th>\n",
       "      <td>0.000000</td>\n",
       "    </tr>\n",
       "  </tbody>\n",
       "</table>\n",
       "<p>83 rows × 1 columns</p>\n",
       "</div>"
      ],
      "text/plain": [
       "          Importance\n",
       "PPERSAUT    6.745348\n",
       "MOSTYPE     5.662854\n",
       "MOPLHOOG    4.882570\n",
       "MGODGE      4.870206\n",
       "ABRAND      4.500669\n",
       "MKOOPKLA    4.463208\n",
       "MGODPR      4.301484\n",
       "MBERMIDD    3.768220\n",
       "PWAPART     2.809727\n",
       "AMOTSCO     2.797485\n",
       "MSKB1       2.740412\n",
       "MBERARBG    2.702583\n",
       "PBRAND      2.588063\n",
       "MSKB2       2.324321\n",
       "APLEZIER    2.180859\n",
       "PPLEZIER    2.021655\n",
       "AWAOREG     1.662509\n",
       "MRELGE      1.643004\n",
       "PGEZONG     1.476181\n",
       "PLEVEN      1.447639\n",
       "MFGEKIND    1.376941\n",
       "MOSHOOFD    1.350630\n",
       "MINK3045    1.326546\n",
       "MSKA        1.311535\n",
       "MFWEKIND    1.194348\n",
       "PBYSTAND    1.177688\n",
       "MAUT0       1.109665\n",
       "MINK4575    1.092916\n",
       "MFALLEEN    1.075491\n",
       "AFIETS      1.055565\n",
       "...              ...\n",
       "ABYSTAND    0.435884\n",
       "MBERARBO    0.392207\n",
       "MBERBOER    0.388926\n",
       "MGEMLEEF    0.330520\n",
       "MRELSA      0.321129\n",
       "MAANTHUI    0.315648\n",
       "MBERZELF    0.293653\n",
       "MSKC        0.273258\n",
       "MOPLLAAG    0.259137\n",
       "ALEVEN      0.100010\n",
       "AWABEDR     0.094119\n",
       "PWABEDR     0.089515\n",
       "PTRACTOR    0.087202\n",
       "AGEZONG     0.082222\n",
       "PWALAND     0.080880\n",
       "PBROM       0.056458\n",
       "ABROM       0.039946\n",
       "AWALAND     0.025547\n",
       "MINK123M    0.020661\n",
       "ATRACTOR    0.020244\n",
       "PBESAUT     0.015095\n",
       "ABESAUT     0.014004\n",
       "PINBOED     0.007840\n",
       "AAANHANG    0.005544\n",
       "AINBOED     0.005445\n",
       "PAANHANG    0.003551\n",
       "APERSONG    0.002045\n",
       "AWERKT      0.000000\n",
       "PPERSONG    0.000000\n",
       "PWERKT      0.000000\n",
       "\n",
       "[83 rows x 1 columns]"
      ]
     },
     "execution_count": 74,
     "metadata": {},
     "output_type": "execute_result"
    }
   ],
   "source": [
    "imp_3 = pd.DataFrame({'Importance': importance}, index = x3.columns)\n",
    "imp_3.sort_values('Importance', ascending = False)"
   ]
  },
  {
   "cell_type": "code",
   "execution_count": 75,
   "metadata": {},
   "outputs": [],
   "source": [
    "# The most important predictor is PPERSAUT."
   ]
  },
  {
   "cell_type": "code",
   "execution_count": 76,
   "metadata": {},
   "outputs": [
    {
     "data": {
      "text/plain": [
       "array([[4489,   44],\n",
       "       [ 277,   12]], dtype=int64)"
      ]
     },
     "execution_count": 76,
     "metadata": {},
     "output_type": "execute_result"
    }
   ],
   "source": [
    "pred1 = boosted.predict(x_test)\n",
    "pred1 = np.round(pred1) \n",
    "mat1 = confusion_matrix(y_test, pred1)\n",
    "mat1"
   ]
  },
  {
   "cell_type": "code",
   "execution_count": 77,
   "metadata": {},
   "outputs": [
    {
     "data": {
      "text/html": [
       "<div>\n",
       "<style scoped>\n",
       "    .dataframe tbody tr th:only-of-type {\n",
       "        vertical-align: middle;\n",
       "    }\n",
       "\n",
       "    .dataframe tbody tr th {\n",
       "        vertical-align: top;\n",
       "    }\n",
       "\n",
       "    .dataframe thead th {\n",
       "        text-align: right;\n",
       "    }\n",
       "</style>\n",
       "<table border=\"1\" class=\"dataframe\">\n",
       "  <thead>\n",
       "    <tr style=\"text-align: right;\">\n",
       "      <th></th>\n",
       "      <th>No</th>\n",
       "      <th>Yes</th>\n",
       "    </tr>\n",
       "  </thead>\n",
       "  <tbody>\n",
       "    <tr>\n",
       "      <th>No</th>\n",
       "      <td>4489</td>\n",
       "      <td>44</td>\n",
       "    </tr>\n",
       "    <tr>\n",
       "      <th>Yes</th>\n",
       "      <td>277</td>\n",
       "      <td>12</td>\n",
       "    </tr>\n",
       "  </tbody>\n",
       "</table>\n",
       "</div>"
      ],
      "text/plain": [
       "       No  Yes\n",
       "No   4489   44\n",
       "Yes   277   12"
      ]
     },
     "execution_count": 77,
     "metadata": {},
     "output_type": "execute_result"
    }
   ],
   "source": [
    "cm1 = pd.DataFrame(mat1,index = ['No','Yes'],columns = ['No','Yes'])\n",
    "cm1"
   ]
  },
  {
   "cell_type": "code",
   "execution_count": 78,
   "metadata": {},
   "outputs": [
    {
     "data": {
      "text/plain": [
       "0.9334301119867275"
      ]
     },
     "execution_count": 78,
     "metadata": {},
     "output_type": "execute_result"
    }
   ],
   "source": [
    "sum2 = cm.values.sum()\n",
    "(4489+12)/sum2"
   ]
  },
  {
   "cell_type": "code",
   "execution_count": 79,
   "metadata": {},
   "outputs": [],
   "source": [
    "# The test accuracy rate is 0.9334301119867275."
   ]
  },
  {
   "cell_type": "code",
   "execution_count": 80,
   "metadata": {},
   "outputs": [],
   "source": [
    "# d)"
   ]
  },
  {
   "cell_type": "code",
   "execution_count": 81,
   "metadata": {},
   "outputs": [],
   "source": [
    "model = KNeighborsClassifier(n_neighbors=3)"
   ]
  },
  {
   "cell_type": "code",
   "execution_count": 82,
   "metadata": {},
   "outputs": [
    {
     "data": {
      "text/plain": [
       "KNeighborsClassifier(algorithm='auto', leaf_size=30, metric='minkowski',\n",
       "                     metric_params=None, n_jobs=None, n_neighbors=3, p=2,\n",
       "                     weights='uniform')"
      ]
     },
     "execution_count": 82,
     "metadata": {},
     "output_type": "execute_result"
    }
   ],
   "source": [
    "model.fit(x_train, y_train)"
   ]
  },
  {
   "cell_type": "code",
   "execution_count": 83,
   "metadata": {},
   "outputs": [
    {
     "data": {
      "text/plain": [
       "array([0, 0, 0, ..., 0, 0, 0], dtype=uint8)"
      ]
     },
     "execution_count": 83,
     "metadata": {},
     "output_type": "execute_result"
    }
   ],
   "source": [
    "model.predict(x_test)"
   ]
  },
  {
   "cell_type": "code",
   "execution_count": 84,
   "metadata": {},
   "outputs": [
    {
     "data": {
      "text/plain": [
       "0.9276233927830776"
      ]
     },
     "execution_count": 84,
     "metadata": {},
     "output_type": "execute_result"
    }
   ],
   "source": [
    "model.score(x_test, y_test)"
   ]
  },
  {
   "cell_type": "code",
   "execution_count": 85,
   "metadata": {},
   "outputs": [],
   "source": [
    "# The test accuracy rate is 0.9276233927830776."
   ]
  },
  {
   "cell_type": "code",
   "execution_count": 86,
   "metadata": {},
   "outputs": [],
   "source": [
    "# e)"
   ]
  },
  {
   "cell_type": "code",
   "execution_count": 90,
   "metadata": {},
   "outputs": [
    {
     "data": {
      "text/plain": [
       "LogisticRegression(C=1.0, class_weight=None, dual=False, fit_intercept=True,\n",
       "                   intercept_scaling=1, l1_ratio=None, max_iter=1000,\n",
       "                   multi_class='warn', n_jobs=None, penalty='l2',\n",
       "                   random_state=1, solver='lbfgs', tol=0.0001, verbose=0,\n",
       "                   warm_start=False)"
      ]
     },
     "execution_count": 90,
     "metadata": {},
     "output_type": "execute_result"
    }
   ],
   "source": [
    "model1 = LogisticRegression(solver='lbfgs', max_iter = 1000, random_state = 1)\n",
    "model1.fit(x_train, y_train)"
   ]
  },
  {
   "cell_type": "code",
   "execution_count": 91,
   "metadata": {},
   "outputs": [
    {
     "data": {
      "text/plain": [
       "0.9346744089589382"
      ]
     },
     "execution_count": 91,
     "metadata": {},
     "output_type": "execute_result"
    }
   ],
   "source": [
    "model1.score(x_test, y_test)"
   ]
  },
  {
   "cell_type": "code",
   "execution_count": 92,
   "metadata": {},
   "outputs": [],
   "source": [
    "# The test accuracy rate is 0.9346744089589382."
   ]
  },
  {
   "cell_type": "code",
   "execution_count": null,
   "metadata": {},
   "outputs": [],
   "source": []
  }
 ],
 "metadata": {
  "kernelspec": {
   "display_name": "Python 3",
   "language": "python",
   "name": "python3"
  },
  "language_info": {
   "codemirror_mode": {
    "name": "ipython",
    "version": 3
   },
   "file_extension": ".py",
   "mimetype": "text/x-python",
   "name": "python",
   "nbconvert_exporter": "python",
   "pygments_lexer": "ipython3",
   "version": "3.7.3"
  }
 },
 "nbformat": 4,
 "nbformat_minor": 2
}
